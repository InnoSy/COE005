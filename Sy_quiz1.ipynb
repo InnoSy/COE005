{
  "nbformat": 4,
  "nbformat_minor": 0,
  "metadata": {
    "colab": {
      "provenance": []
    },
    "kernelspec": {
      "name": "python3",
      "display_name": "Python 3"
    },
    "language_info": {
      "name": "python"
    }
  },
  "cells": [
    {
      "cell_type": "markdown",
      "source": [
        "**Import the necessary libraries**"
      ],
      "metadata": {
        "id": "C0Aqvc577Ymy"
      }
    },
    {
      "cell_type": "code",
      "execution_count": 37,
      "metadata": {
        "id": "rqgqSmhT7MU-"
      },
      "outputs": [],
      "source": [
        "import numpy as np # for math equations\n",
        "import pandas as pd # for reading the csv file\n"
      ]
    },
    {
      "cell_type": "markdown",
      "source": [
        "**Preparing the data since data is already given there is no need for data gathering**"
      ],
      "metadata": {
        "id": "0d_lBvaI9KXw"
      }
    },
    {
      "cell_type": "code",
      "source": [
        "bc = pd.read_csv('data.csv')"
      ],
      "metadata": {
        "id": "UxXYhuy67qjz"
      },
      "execution_count": 38,
      "outputs": []
    },
    {
      "cell_type": "code",
      "source": [
        "bc.head() # showing the whole data"
      ],
      "metadata": {
        "id": "Cep9kUjVBnC_"
      },
      "execution_count": null,
      "outputs": []
    },
    {
      "cell_type": "code",
      "source": [
        "bc = bc.drop([\"Unnamed: 32\"], axis=1) # removing column with NaN"
      ],
      "metadata": {
        "id": "PN2Mr9wY8cEW"
      },
      "execution_count": 40,
      "outputs": []
    },
    {
      "cell_type": "code",
      "source": [
        "bc.head() # for checking if the column \"Unnamed: 32\" is removed"
      ],
      "metadata": {
        "id": "62Xun8KvD4sh"
      },
      "execution_count": null,
      "outputs": []
    },
    {
      "cell_type": "code",
      "source": [
        "# converting M and B to numerical values\n",
        "bc.loc[bc[\"diagnosis\"]=='B','diagnosis']=1\n",
        "bc.loc[bc[\"diagnosis\"]=='M','diagnosis']=0"
      ],
      "metadata": {
        "id": "07MY07OL8N46"
      },
      "execution_count": 42,
      "outputs": []
    },
    {
      "cell_type": "code",
      "source": [
        "bc.head() # for checking the converted values of M and B"
      ],
      "metadata": {
        "id": "a7znYERA9D26"
      },
      "execution_count": null,
      "outputs": []
    },
    {
      "cell_type": "code",
      "source": [
        "bc['diagnosis'].value_counts() # counting the total number of M and B in the dataset"
      ],
      "metadata": {
        "colab": {
          "base_uri": "https://localhost:8080/"
        },
        "id": "q0y9_fGFDhPV",
        "outputId": "5878f523-1b31-459f-8cd2-93f73d47268e"
      },
      "execution_count": 44,
      "outputs": [
        {
          "output_type": "execute_result",
          "data": {
            "text/plain": [
              "1    357\n",
              "0    212\n",
              "Name: diagnosis, dtype: int64"
            ]
          },
          "metadata": {},
          "execution_count": 44
        }
      ]
    },
    {
      "cell_type": "markdown",
      "source": [
        "**Choosing the model**"
      ],
      "metadata": {
        "id": "xwIcQg_f_PQy"
      }
    },
    {
      "cell_type": "code",
      "source": [
        "from sklearn.linear_model import LinearRegression\n",
        "from sklearn.metrics import r2_score\n",
        "from sklearn.model_selection import train_test_split # for selecting ml and training data "
      ],
      "metadata": {
        "id": "rfoJeiwJ_752"
      },
      "execution_count": 54,
      "outputs": []
    },
    {
      "cell_type": "code",
      "source": [
        "X = bc.drop(columns=['diagnosis'])\n",
        "y = bc['diagnosis']\n",
        "X_train, X_test, y_train, y_test = train_test_split(X,y,test_size=0.20)"
      ],
      "metadata": {
        "id": "Zo3MUgOCKdpY"
      },
      "execution_count": 57,
      "outputs": []
    },
    {
      "cell_type": "code",
      "source": [
        "bcmodel=LinearRegression()"
      ],
      "metadata": {
        "id": "qiAdswY7LHXy"
      },
      "execution_count": 55,
      "outputs": []
    },
    {
      "cell_type": "code",
      "source": [
        "bcmodel = bcmodel.fit(X_train,y_train)\n",
        "y_pred = bcmodel.predict(X_test)\n",
        "r2_score(y_test, y_pred)"
      ],
      "metadata": {
        "colab": {
          "base_uri": "https://localhost:8080/"
        },
        "id": "TXXQliynLca_",
        "outputId": "476ecaac-ce1a-4a0c-fd58-f04680fbb828"
      },
      "execution_count": 61,
      "outputs": [
        {
          "output_type": "execute_result",
          "data": {
            "text/plain": [
              "0.7450972265923416"
            ]
          },
          "metadata": {},
          "execution_count": 61
        }
      ]
    }
  ]
}