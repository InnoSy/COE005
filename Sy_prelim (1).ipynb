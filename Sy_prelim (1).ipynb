{
  "nbformat": 4,
  "nbformat_minor": 0,
  "metadata": {
    "colab": {
      "provenance": [],
      "collapsed_sections": [],
      "toc_visible": true
    },
    "kernelspec": {
      "name": "python3",
      "display_name": "Python 3"
    },
    "language_info": {
      "name": "python"
    }
  },
  "cells": [
    {
      "cell_type": "markdown",
      "source": [
        "# Titanic: Machine Learning"
      ],
      "metadata": {
        "id": "G4e4wPpdSfC4"
      }
    },
    {
      "cell_type": "markdown",
      "source": [
        "## Data Gathering"
      ],
      "metadata": {
        "id": "Ms5Cb7GN1-EW"
      }
    },
    {
      "cell_type": "markdown",
      "source": [
        "**1.** The dataset for this project can be found in the given link: https://www.kaggle.com/competitions/titanic/data?select=train.csv\n",
        "\n",
        "**2.** The \"train.csv\" dataset will be used in this project"
      ],
      "metadata": {
        "id": "1YAhXWjR20D6"
      }
    },
    {
      "cell_type": "code",
      "source": [
        "#importing the necessary libararies for the whole program\n",
        "import numpy as np\n",
        "import pandas as pd"
      ],
      "metadata": {
        "id": "fy7xuxC24RYS"
      },
      "execution_count": 219,
      "outputs": []
    },
    {
      "cell_type": "markdown",
      "source": [
        "## Data Preparation"
      ],
      "metadata": {
        "id": "9xS_pyAu2J_X"
      }
    },
    {
      "cell_type": "markdown",
      "source": [
        "**1.** The dataset has NaN values which is necessarry to be replace by a numerical value\n",
        "\n",
        "**2.** But that is unnecessary if the column containing that NaN values will be removed\n",
        "\n",
        "**3.** Cleaning the given dataset by removing some parameters is recommended"
      ],
      "metadata": {
        "id": "bp0_L158KIlh"
      }
    },
    {
      "cell_type": "code",
      "source": [
        "# reading and showing the dataset\n",
        "\n",
        "tn_train=pd.read_csv(\"train.csv\")\n",
        "tn_train.head()"
      ],
      "metadata": {
        "id": "VUChI57k5zNC",
        "colab": {
          "base_uri": "https://localhost:8080/",
          "height": 206
        },
        "outputId": "776ca1c5-7f2e-4e27-d54c-7ad34063d0c9"
      },
      "execution_count": 220,
      "outputs": [
        {
          "output_type": "execute_result",
          "data": {
            "text/plain": [
              "   PassengerId  Survived  Pclass  \\\n",
              "0            1         0       3   \n",
              "1            2         1       1   \n",
              "2            3         1       3   \n",
              "3            4         1       1   \n",
              "4            5         0       3   \n",
              "\n",
              "                                                Name     Sex   Age  SibSp  \\\n",
              "0                            Braund, Mr. Owen Harris    male  22.0      1   \n",
              "1  Cumings, Mrs. John Bradley (Florence Briggs Th...  female  38.0      1   \n",
              "2                             Heikkinen, Miss. Laina  female  26.0      0   \n",
              "3       Futrelle, Mrs. Jacques Heath (Lily May Peel)  female  35.0      1   \n",
              "4                           Allen, Mr. William Henry    male  35.0      0   \n",
              "\n",
              "   Parch            Ticket     Fare Cabin Embarked  \n",
              "0      0         A/5 21171   7.2500   NaN        S  \n",
              "1      0          PC 17599  71.2833   C85        C  \n",
              "2      0  STON/O2. 3101282   7.9250   NaN        S  \n",
              "3      0            113803  53.1000  C123        S  \n",
              "4      0            373450   8.0500   NaN        S  "
            ],
            "text/html": [
              "\n",
              "  <div id=\"df-8ccaf854-29f5-4c14-a7d9-862edce22f2e\">\n",
              "    <div class=\"colab-df-container\">\n",
              "      <div>\n",
              "<style scoped>\n",
              "    .dataframe tbody tr th:only-of-type {\n",
              "        vertical-align: middle;\n",
              "    }\n",
              "\n",
              "    .dataframe tbody tr th {\n",
              "        vertical-align: top;\n",
              "    }\n",
              "\n",
              "    .dataframe thead th {\n",
              "        text-align: right;\n",
              "    }\n",
              "</style>\n",
              "<table border=\"1\" class=\"dataframe\">\n",
              "  <thead>\n",
              "    <tr style=\"text-align: right;\">\n",
              "      <th></th>\n",
              "      <th>PassengerId</th>\n",
              "      <th>Survived</th>\n",
              "      <th>Pclass</th>\n",
              "      <th>Name</th>\n",
              "      <th>Sex</th>\n",
              "      <th>Age</th>\n",
              "      <th>SibSp</th>\n",
              "      <th>Parch</th>\n",
              "      <th>Ticket</th>\n",
              "      <th>Fare</th>\n",
              "      <th>Cabin</th>\n",
              "      <th>Embarked</th>\n",
              "    </tr>\n",
              "  </thead>\n",
              "  <tbody>\n",
              "    <tr>\n",
              "      <th>0</th>\n",
              "      <td>1</td>\n",
              "      <td>0</td>\n",
              "      <td>3</td>\n",
              "      <td>Braund, Mr. Owen Harris</td>\n",
              "      <td>male</td>\n",
              "      <td>22.0</td>\n",
              "      <td>1</td>\n",
              "      <td>0</td>\n",
              "      <td>A/5 21171</td>\n",
              "      <td>7.2500</td>\n",
              "      <td>NaN</td>\n",
              "      <td>S</td>\n",
              "    </tr>\n",
              "    <tr>\n",
              "      <th>1</th>\n",
              "      <td>2</td>\n",
              "      <td>1</td>\n",
              "      <td>1</td>\n",
              "      <td>Cumings, Mrs. John Bradley (Florence Briggs Th...</td>\n",
              "      <td>female</td>\n",
              "      <td>38.0</td>\n",
              "      <td>1</td>\n",
              "      <td>0</td>\n",
              "      <td>PC 17599</td>\n",
              "      <td>71.2833</td>\n",
              "      <td>C85</td>\n",
              "      <td>C</td>\n",
              "    </tr>\n",
              "    <tr>\n",
              "      <th>2</th>\n",
              "      <td>3</td>\n",
              "      <td>1</td>\n",
              "      <td>3</td>\n",
              "      <td>Heikkinen, Miss. Laina</td>\n",
              "      <td>female</td>\n",
              "      <td>26.0</td>\n",
              "      <td>0</td>\n",
              "      <td>0</td>\n",
              "      <td>STON/O2. 3101282</td>\n",
              "      <td>7.9250</td>\n",
              "      <td>NaN</td>\n",
              "      <td>S</td>\n",
              "    </tr>\n",
              "    <tr>\n",
              "      <th>3</th>\n",
              "      <td>4</td>\n",
              "      <td>1</td>\n",
              "      <td>1</td>\n",
              "      <td>Futrelle, Mrs. Jacques Heath (Lily May Peel)</td>\n",
              "      <td>female</td>\n",
              "      <td>35.0</td>\n",
              "      <td>1</td>\n",
              "      <td>0</td>\n",
              "      <td>113803</td>\n",
              "      <td>53.1000</td>\n",
              "      <td>C123</td>\n",
              "      <td>S</td>\n",
              "    </tr>\n",
              "    <tr>\n",
              "      <th>4</th>\n",
              "      <td>5</td>\n",
              "      <td>0</td>\n",
              "      <td>3</td>\n",
              "      <td>Allen, Mr. William Henry</td>\n",
              "      <td>male</td>\n",
              "      <td>35.0</td>\n",
              "      <td>0</td>\n",
              "      <td>0</td>\n",
              "      <td>373450</td>\n",
              "      <td>8.0500</td>\n",
              "      <td>NaN</td>\n",
              "      <td>S</td>\n",
              "    </tr>\n",
              "  </tbody>\n",
              "</table>\n",
              "</div>\n",
              "      <button class=\"colab-df-convert\" onclick=\"convertToInteractive('df-8ccaf854-29f5-4c14-a7d9-862edce22f2e')\"\n",
              "              title=\"Convert this dataframe to an interactive table.\"\n",
              "              style=\"display:none;\">\n",
              "        \n",
              "  <svg xmlns=\"http://www.w3.org/2000/svg\" height=\"24px\"viewBox=\"0 0 24 24\"\n",
              "       width=\"24px\">\n",
              "    <path d=\"M0 0h24v24H0V0z\" fill=\"none\"/>\n",
              "    <path d=\"M18.56 5.44l.94 2.06.94-2.06 2.06-.94-2.06-.94-.94-2.06-.94 2.06-2.06.94zm-11 1L8.5 8.5l.94-2.06 2.06-.94-2.06-.94L8.5 2.5l-.94 2.06-2.06.94zm10 10l.94 2.06.94-2.06 2.06-.94-2.06-.94-.94-2.06-.94 2.06-2.06.94z\"/><path d=\"M17.41 7.96l-1.37-1.37c-.4-.4-.92-.59-1.43-.59-.52 0-1.04.2-1.43.59L10.3 9.45l-7.72 7.72c-.78.78-.78 2.05 0 2.83L4 21.41c.39.39.9.59 1.41.59.51 0 1.02-.2 1.41-.59l7.78-7.78 2.81-2.81c.8-.78.8-2.07 0-2.86zM5.41 20L4 18.59l7.72-7.72 1.47 1.35L5.41 20z\"/>\n",
              "  </svg>\n",
              "      </button>\n",
              "      \n",
              "  <style>\n",
              "    .colab-df-container {\n",
              "      display:flex;\n",
              "      flex-wrap:wrap;\n",
              "      gap: 12px;\n",
              "    }\n",
              "\n",
              "    .colab-df-convert {\n",
              "      background-color: #E8F0FE;\n",
              "      border: none;\n",
              "      border-radius: 50%;\n",
              "      cursor: pointer;\n",
              "      display: none;\n",
              "      fill: #1967D2;\n",
              "      height: 32px;\n",
              "      padding: 0 0 0 0;\n",
              "      width: 32px;\n",
              "    }\n",
              "\n",
              "    .colab-df-convert:hover {\n",
              "      background-color: #E2EBFA;\n",
              "      box-shadow: 0px 1px 2px rgba(60, 64, 67, 0.3), 0px 1px 3px 1px rgba(60, 64, 67, 0.15);\n",
              "      fill: #174EA6;\n",
              "    }\n",
              "\n",
              "    [theme=dark] .colab-df-convert {\n",
              "      background-color: #3B4455;\n",
              "      fill: #D2E3FC;\n",
              "    }\n",
              "\n",
              "    [theme=dark] .colab-df-convert:hover {\n",
              "      background-color: #434B5C;\n",
              "      box-shadow: 0px 1px 3px 1px rgba(0, 0, 0, 0.15);\n",
              "      filter: drop-shadow(0px 1px 2px rgba(0, 0, 0, 0.3));\n",
              "      fill: #FFFFFF;\n",
              "    }\n",
              "  </style>\n",
              "\n",
              "      <script>\n",
              "        const buttonEl =\n",
              "          document.querySelector('#df-8ccaf854-29f5-4c14-a7d9-862edce22f2e button.colab-df-convert');\n",
              "        buttonEl.style.display =\n",
              "          google.colab.kernel.accessAllowed ? 'block' : 'none';\n",
              "\n",
              "        async function convertToInteractive(key) {\n",
              "          const element = document.querySelector('#df-8ccaf854-29f5-4c14-a7d9-862edce22f2e');\n",
              "          const dataTable =\n",
              "            await google.colab.kernel.invokeFunction('convertToInteractive',\n",
              "                                                     [key], {});\n",
              "          if (!dataTable) return;\n",
              "\n",
              "          const docLinkHtml = 'Like what you see? Visit the ' +\n",
              "            '<a target=\"_blank\" href=https://colab.research.google.com/notebooks/data_table.ipynb>data table notebook</a>'\n",
              "            + ' to learn more about interactive tables.';\n",
              "          element.innerHTML = '';\n",
              "          dataTable['output_type'] = 'display_data';\n",
              "          await google.colab.output.renderOutput(dataTable, element);\n",
              "          const docLink = document.createElement('div');\n",
              "          docLink.innerHTML = docLinkHtml;\n",
              "          element.appendChild(docLink);\n",
              "        }\n",
              "      </script>\n",
              "    </div>\n",
              "  </div>\n",
              "  "
            ]
          },
          "metadata": {},
          "execution_count": 220
        }
      ]
    },
    {
      "cell_type": "code",
      "source": [
        "tn_train = tn_train.drop([\"PassengerId\", \"Name\", \"Age\", \"SibSp\", \"Parch\", \"Ticket\", \"Fare\", \"Cabin\", \"Embarked\"], axis=1)"
      ],
      "metadata": {
        "id": "-dqKZu_NCukv"
      },
      "execution_count": 221,
      "outputs": []
    },
    {
      "cell_type": "code",
      "source": [
        "# for checking if the desired columns are removed\n",
        "\n",
        "tn_train.head()"
      ],
      "metadata": {
        "colab": {
          "base_uri": "https://localhost:8080/",
          "height": 206
        },
        "id": "t2sGTiT_FtHA",
        "outputId": "25e0192b-b937-49fa-b9fc-acf60bab289f"
      },
      "execution_count": 222,
      "outputs": [
        {
          "output_type": "execute_result",
          "data": {
            "text/plain": [
              "   Survived  Pclass     Sex\n",
              "0         0       3    male\n",
              "1         1       1  female\n",
              "2         1       3  female\n",
              "3         1       1  female\n",
              "4         0       3    male"
            ],
            "text/html": [
              "\n",
              "  <div id=\"df-478b4948-f442-494c-b135-2aa91bdf405b\">\n",
              "    <div class=\"colab-df-container\">\n",
              "      <div>\n",
              "<style scoped>\n",
              "    .dataframe tbody tr th:only-of-type {\n",
              "        vertical-align: middle;\n",
              "    }\n",
              "\n",
              "    .dataframe tbody tr th {\n",
              "        vertical-align: top;\n",
              "    }\n",
              "\n",
              "    .dataframe thead th {\n",
              "        text-align: right;\n",
              "    }\n",
              "</style>\n",
              "<table border=\"1\" class=\"dataframe\">\n",
              "  <thead>\n",
              "    <tr style=\"text-align: right;\">\n",
              "      <th></th>\n",
              "      <th>Survived</th>\n",
              "      <th>Pclass</th>\n",
              "      <th>Sex</th>\n",
              "    </tr>\n",
              "  </thead>\n",
              "  <tbody>\n",
              "    <tr>\n",
              "      <th>0</th>\n",
              "      <td>0</td>\n",
              "      <td>3</td>\n",
              "      <td>male</td>\n",
              "    </tr>\n",
              "    <tr>\n",
              "      <th>1</th>\n",
              "      <td>1</td>\n",
              "      <td>1</td>\n",
              "      <td>female</td>\n",
              "    </tr>\n",
              "    <tr>\n",
              "      <th>2</th>\n",
              "      <td>1</td>\n",
              "      <td>3</td>\n",
              "      <td>female</td>\n",
              "    </tr>\n",
              "    <tr>\n",
              "      <th>3</th>\n",
              "      <td>1</td>\n",
              "      <td>1</td>\n",
              "      <td>female</td>\n",
              "    </tr>\n",
              "    <tr>\n",
              "      <th>4</th>\n",
              "      <td>0</td>\n",
              "      <td>3</td>\n",
              "      <td>male</td>\n",
              "    </tr>\n",
              "  </tbody>\n",
              "</table>\n",
              "</div>\n",
              "      <button class=\"colab-df-convert\" onclick=\"convertToInteractive('df-478b4948-f442-494c-b135-2aa91bdf405b')\"\n",
              "              title=\"Convert this dataframe to an interactive table.\"\n",
              "              style=\"display:none;\">\n",
              "        \n",
              "  <svg xmlns=\"http://www.w3.org/2000/svg\" height=\"24px\"viewBox=\"0 0 24 24\"\n",
              "       width=\"24px\">\n",
              "    <path d=\"M0 0h24v24H0V0z\" fill=\"none\"/>\n",
              "    <path d=\"M18.56 5.44l.94 2.06.94-2.06 2.06-.94-2.06-.94-.94-2.06-.94 2.06-2.06.94zm-11 1L8.5 8.5l.94-2.06 2.06-.94-2.06-.94L8.5 2.5l-.94 2.06-2.06.94zm10 10l.94 2.06.94-2.06 2.06-.94-2.06-.94-.94-2.06-.94 2.06-2.06.94z\"/><path d=\"M17.41 7.96l-1.37-1.37c-.4-.4-.92-.59-1.43-.59-.52 0-1.04.2-1.43.59L10.3 9.45l-7.72 7.72c-.78.78-.78 2.05 0 2.83L4 21.41c.39.39.9.59 1.41.59.51 0 1.02-.2 1.41-.59l7.78-7.78 2.81-2.81c.8-.78.8-2.07 0-2.86zM5.41 20L4 18.59l7.72-7.72 1.47 1.35L5.41 20z\"/>\n",
              "  </svg>\n",
              "      </button>\n",
              "      \n",
              "  <style>\n",
              "    .colab-df-container {\n",
              "      display:flex;\n",
              "      flex-wrap:wrap;\n",
              "      gap: 12px;\n",
              "    }\n",
              "\n",
              "    .colab-df-convert {\n",
              "      background-color: #E8F0FE;\n",
              "      border: none;\n",
              "      border-radius: 50%;\n",
              "      cursor: pointer;\n",
              "      display: none;\n",
              "      fill: #1967D2;\n",
              "      height: 32px;\n",
              "      padding: 0 0 0 0;\n",
              "      width: 32px;\n",
              "    }\n",
              "\n",
              "    .colab-df-convert:hover {\n",
              "      background-color: #E2EBFA;\n",
              "      box-shadow: 0px 1px 2px rgba(60, 64, 67, 0.3), 0px 1px 3px 1px rgba(60, 64, 67, 0.15);\n",
              "      fill: #174EA6;\n",
              "    }\n",
              "\n",
              "    [theme=dark] .colab-df-convert {\n",
              "      background-color: #3B4455;\n",
              "      fill: #D2E3FC;\n",
              "    }\n",
              "\n",
              "    [theme=dark] .colab-df-convert:hover {\n",
              "      background-color: #434B5C;\n",
              "      box-shadow: 0px 1px 3px 1px rgba(0, 0, 0, 0.15);\n",
              "      filter: drop-shadow(0px 1px 2px rgba(0, 0, 0, 0.3));\n",
              "      fill: #FFFFFF;\n",
              "    }\n",
              "  </style>\n",
              "\n",
              "      <script>\n",
              "        const buttonEl =\n",
              "          document.querySelector('#df-478b4948-f442-494c-b135-2aa91bdf405b button.colab-df-convert');\n",
              "        buttonEl.style.display =\n",
              "          google.colab.kernel.accessAllowed ? 'block' : 'none';\n",
              "\n",
              "        async function convertToInteractive(key) {\n",
              "          const element = document.querySelector('#df-478b4948-f442-494c-b135-2aa91bdf405b');\n",
              "          const dataTable =\n",
              "            await google.colab.kernel.invokeFunction('convertToInteractive',\n",
              "                                                     [key], {});\n",
              "          if (!dataTable) return;\n",
              "\n",
              "          const docLinkHtml = 'Like what you see? Visit the ' +\n",
              "            '<a target=\"_blank\" href=https://colab.research.google.com/notebooks/data_table.ipynb>data table notebook</a>'\n",
              "            + ' to learn more about interactive tables.';\n",
              "          element.innerHTML = '';\n",
              "          dataTable['output_type'] = 'display_data';\n",
              "          await google.colab.output.renderOutput(dataTable, element);\n",
              "          const docLink = document.createElement('div');\n",
              "          docLink.innerHTML = docLinkHtml;\n",
              "          element.appendChild(docLink);\n",
              "        }\n",
              "      </script>\n",
              "    </div>\n",
              "  </div>\n",
              "  "
            ]
          },
          "metadata": {},
          "execution_count": 222
        }
      ]
    },
    {
      "cell_type": "code",
      "source": [
        "# converting \"male\" and \"female\" into numerical values\n",
        "\n",
        "tn_train.loc[tn_train[\"Sex\"]=='female','Sex']=1\n",
        "tn_train.loc[tn_train[\"Sex\"]=='male','Sex']=0"
      ],
      "metadata": {
        "id": "Lh2nnmHjG-ut"
      },
      "execution_count": 223,
      "outputs": []
    },
    {
      "cell_type": "code",
      "source": [
        "tn_train.head()"
      ],
      "metadata": {
        "colab": {
          "base_uri": "https://localhost:8080/",
          "height": 206
        },
        "id": "GYIsj81xHWaC",
        "outputId": "452ed1ea-6bae-45b7-8259-edc93a760a14"
      },
      "execution_count": 224,
      "outputs": [
        {
          "output_type": "execute_result",
          "data": {
            "text/plain": [
              "   Survived  Pclass Sex\n",
              "0         0       3   0\n",
              "1         1       1   1\n",
              "2         1       3   1\n",
              "3         1       1   1\n",
              "4         0       3   0"
            ],
            "text/html": [
              "\n",
              "  <div id=\"df-b9057047-78b3-42cf-8163-9919469278fb\">\n",
              "    <div class=\"colab-df-container\">\n",
              "      <div>\n",
              "<style scoped>\n",
              "    .dataframe tbody tr th:only-of-type {\n",
              "        vertical-align: middle;\n",
              "    }\n",
              "\n",
              "    .dataframe tbody tr th {\n",
              "        vertical-align: top;\n",
              "    }\n",
              "\n",
              "    .dataframe thead th {\n",
              "        text-align: right;\n",
              "    }\n",
              "</style>\n",
              "<table border=\"1\" class=\"dataframe\">\n",
              "  <thead>\n",
              "    <tr style=\"text-align: right;\">\n",
              "      <th></th>\n",
              "      <th>Survived</th>\n",
              "      <th>Pclass</th>\n",
              "      <th>Sex</th>\n",
              "    </tr>\n",
              "  </thead>\n",
              "  <tbody>\n",
              "    <tr>\n",
              "      <th>0</th>\n",
              "      <td>0</td>\n",
              "      <td>3</td>\n",
              "      <td>0</td>\n",
              "    </tr>\n",
              "    <tr>\n",
              "      <th>1</th>\n",
              "      <td>1</td>\n",
              "      <td>1</td>\n",
              "      <td>1</td>\n",
              "    </tr>\n",
              "    <tr>\n",
              "      <th>2</th>\n",
              "      <td>1</td>\n",
              "      <td>3</td>\n",
              "      <td>1</td>\n",
              "    </tr>\n",
              "    <tr>\n",
              "      <th>3</th>\n",
              "      <td>1</td>\n",
              "      <td>1</td>\n",
              "      <td>1</td>\n",
              "    </tr>\n",
              "    <tr>\n",
              "      <th>4</th>\n",
              "      <td>0</td>\n",
              "      <td>3</td>\n",
              "      <td>0</td>\n",
              "    </tr>\n",
              "  </tbody>\n",
              "</table>\n",
              "</div>\n",
              "      <button class=\"colab-df-convert\" onclick=\"convertToInteractive('df-b9057047-78b3-42cf-8163-9919469278fb')\"\n",
              "              title=\"Convert this dataframe to an interactive table.\"\n",
              "              style=\"display:none;\">\n",
              "        \n",
              "  <svg xmlns=\"http://www.w3.org/2000/svg\" height=\"24px\"viewBox=\"0 0 24 24\"\n",
              "       width=\"24px\">\n",
              "    <path d=\"M0 0h24v24H0V0z\" fill=\"none\"/>\n",
              "    <path d=\"M18.56 5.44l.94 2.06.94-2.06 2.06-.94-2.06-.94-.94-2.06-.94 2.06-2.06.94zm-11 1L8.5 8.5l.94-2.06 2.06-.94-2.06-.94L8.5 2.5l-.94 2.06-2.06.94zm10 10l.94 2.06.94-2.06 2.06-.94-2.06-.94-.94-2.06-.94 2.06-2.06.94z\"/><path d=\"M17.41 7.96l-1.37-1.37c-.4-.4-.92-.59-1.43-.59-.52 0-1.04.2-1.43.59L10.3 9.45l-7.72 7.72c-.78.78-.78 2.05 0 2.83L4 21.41c.39.39.9.59 1.41.59.51 0 1.02-.2 1.41-.59l7.78-7.78 2.81-2.81c.8-.78.8-2.07 0-2.86zM5.41 20L4 18.59l7.72-7.72 1.47 1.35L5.41 20z\"/>\n",
              "  </svg>\n",
              "      </button>\n",
              "      \n",
              "  <style>\n",
              "    .colab-df-container {\n",
              "      display:flex;\n",
              "      flex-wrap:wrap;\n",
              "      gap: 12px;\n",
              "    }\n",
              "\n",
              "    .colab-df-convert {\n",
              "      background-color: #E8F0FE;\n",
              "      border: none;\n",
              "      border-radius: 50%;\n",
              "      cursor: pointer;\n",
              "      display: none;\n",
              "      fill: #1967D2;\n",
              "      height: 32px;\n",
              "      padding: 0 0 0 0;\n",
              "      width: 32px;\n",
              "    }\n",
              "\n",
              "    .colab-df-convert:hover {\n",
              "      background-color: #E2EBFA;\n",
              "      box-shadow: 0px 1px 2px rgba(60, 64, 67, 0.3), 0px 1px 3px 1px rgba(60, 64, 67, 0.15);\n",
              "      fill: #174EA6;\n",
              "    }\n",
              "\n",
              "    [theme=dark] .colab-df-convert {\n",
              "      background-color: #3B4455;\n",
              "      fill: #D2E3FC;\n",
              "    }\n",
              "\n",
              "    [theme=dark] .colab-df-convert:hover {\n",
              "      background-color: #434B5C;\n",
              "      box-shadow: 0px 1px 3px 1px rgba(0, 0, 0, 0.15);\n",
              "      filter: drop-shadow(0px 1px 2px rgba(0, 0, 0, 0.3));\n",
              "      fill: #FFFFFF;\n",
              "    }\n",
              "  </style>\n",
              "\n",
              "      <script>\n",
              "        const buttonEl =\n",
              "          document.querySelector('#df-b9057047-78b3-42cf-8163-9919469278fb button.colab-df-convert');\n",
              "        buttonEl.style.display =\n",
              "          google.colab.kernel.accessAllowed ? 'block' : 'none';\n",
              "\n",
              "        async function convertToInteractive(key) {\n",
              "          const element = document.querySelector('#df-b9057047-78b3-42cf-8163-9919469278fb');\n",
              "          const dataTable =\n",
              "            await google.colab.kernel.invokeFunction('convertToInteractive',\n",
              "                                                     [key], {});\n",
              "          if (!dataTable) return;\n",
              "\n",
              "          const docLinkHtml = 'Like what you see? Visit the ' +\n",
              "            '<a target=\"_blank\" href=https://colab.research.google.com/notebooks/data_table.ipynb>data table notebook</a>'\n",
              "            + ' to learn more about interactive tables.';\n",
              "          element.innerHTML = '';\n",
              "          dataTable['output_type'] = 'display_data';\n",
              "          await google.colab.output.renderOutput(dataTable, element);\n",
              "          const docLink = document.createElement('div');\n",
              "          docLink.innerHTML = docLinkHtml;\n",
              "          element.appendChild(docLink);\n",
              "        }\n",
              "      </script>\n",
              "    </div>\n",
              "  </div>\n",
              "  "
            ]
          },
          "metadata": {},
          "execution_count": 224
        }
      ]
    },
    {
      "cell_type": "code",
      "source": [
        "# checking if the size of the dataset is unchanged\n",
        "\n",
        "print(tn_train.shape)"
      ],
      "metadata": {
        "colab": {
          "base_uri": "https://localhost:8080/"
        },
        "id": "eYbseEx9HpHm",
        "outputId": "75544b8f-ec07-436c-8ed9-75eb9b414e11"
      },
      "execution_count": 225,
      "outputs": [
        {
          "output_type": "stream",
          "name": "stdout",
          "text": [
            "(891, 3)\n"
          ]
        }
      ]
    },
    {
      "cell_type": "markdown",
      "source": [
        "## Model Selection"
      ],
      "metadata": {
        "id": "nDMOd3pW2KXM"
      }
    },
    {
      "cell_type": "markdown",
      "source": [
        "**1.** The machine learning models that will be used is presented in this section\n",
        "\n",
        "**2.** In this section, Random Forest and Naive Bayes are used as the machine learning model"
      ],
      "metadata": {
        "id": "jSeTp19mv1ru"
      }
    },
    {
      "cell_type": "code",
      "source": [
        "# machine learning models and other libraries for training and evaluation\n",
        "\n",
        "from sklearn.ensemble import RandomForestClassifier\n",
        "from sklearn.model_selection import train_test_split\n",
        "from sklearn.naive_bayes import GaussianNB\n",
        "from sklearn.metrics import accuracy_score"
      ],
      "metadata": {
        "id": "-K0IWXYILyCp"
      },
      "execution_count": 226,
      "outputs": []
    },
    {
      "cell_type": "markdown",
      "source": [
        "## Data Training"
      ],
      "metadata": {
        "id": "i4yFUl3n2Kp0"
      }
    },
    {
      "cell_type": "markdown",
      "source": [
        "**1.** The prepared data is trained in this process\n",
        "\n",
        "**2.** The trained data will then be used for data evaluation"
      ],
      "metadata": {
        "id": "Y34ir6wWxNYI"
      }
    },
    {
      "cell_type": "code",
      "source": [
        "tn_x=tn_train.drop(['Survived'], axis=1)\n",
        "tn_y=tn_train['Survived']"
      ],
      "metadata": {
        "id": "YfJjipf8NkA0"
      },
      "execution_count": 227,
      "outputs": []
    },
    {
      "cell_type": "code",
      "source": [
        "x_train, x_test, y_train, y_test = train_test_split(tn_x, tn_y, test_size = .2)"
      ],
      "metadata": {
        "id": "ECg4KW5JOE28"
      },
      "execution_count": 228,
      "outputs": []
    },
    {
      "cell_type": "markdown",
      "source": [
        "## Data Evaluation"
      ],
      "metadata": {
        "id": "qkZIhmP32K_r"
      }
    },
    {
      "cell_type": "markdown",
      "source": [
        "**1.** The data is evaluated in this process using the two machine learning models\n",
        "\n",
        "**2.** The accuracy of both models is also presented in this section"
      ],
      "metadata": {
        "id": "jaPPxjZsxtUA"
      }
    },
    {
      "cell_type": "code",
      "source": [
        "# for Random Forest model\n",
        "\n",
        "tn_rf=RandomForestClassifier()\n",
        "tn_rf.fit(x_train, y_train)\n",
        "\n",
        "# for Naive Bayes model\n",
        "\n",
        "tn_g=GaussianNB()\n",
        "tn_g.fit(x_train, y_train)"
      ],
      "metadata": {
        "colab": {
          "base_uri": "https://localhost:8080/"
        },
        "id": "GNAesNupOgDO",
        "outputId": "28181ae2-ca07-4ea5-c10e-385b75e81673"
      },
      "execution_count": 229,
      "outputs": [
        {
          "output_type": "execute_result",
          "data": {
            "text/plain": [
              "GaussianNB()"
            ]
          },
          "metadata": {},
          "execution_count": 229
        }
      ]
    },
    {
      "cell_type": "markdown",
      "source": [
        "## Prediction"
      ],
      "metadata": {
        "id": "SbxFOBgA8oPa"
      }
    },
    {
      "cell_type": "code",
      "source": [
        "\n",
        "tn_ypred=tn_rf.predict(x_test)\n",
        "tn_gpred=tn_g.predict(x_test)\n",
        "\n",
        "tn_accuracy=round(accuracy_score(y_test, tn_ypred)*100,2)\n",
        "print(\"RFaccuracy = \", tn_accuracy)\n",
        "\n",
        "tn_accgn=round(accuracy_score(y_test, tn_gpred)*100, 2)\n",
        "print(\"NBaccuracy = \", tn_accgn)"
      ],
      "metadata": {
        "colab": {
          "base_uri": "https://localhost:8080/"
        },
        "id": "6rHvYQ0dRX32",
        "outputId": "c89541b8-7833-4ad2-d8e0-e2fe357139cf"
      },
      "execution_count": 230,
      "outputs": [
        {
          "output_type": "stream",
          "name": "stdout",
          "text": [
            "RFaccuracy =  81.01\n",
            "NBaccuracy =  81.01\n"
          ]
        }
      ]
    },
    {
      "cell_type": "markdown",
      "source": [
        "# Titanic: Neural Network"
      ],
      "metadata": {
        "id": "xiENZHM9gm_K"
      }
    },
    {
      "cell_type": "code",
      "source": [
        "from tensorflow.keras.models import Sequential\n",
        "from tensorflow.keras.layers import Dense"
      ],
      "metadata": {
        "id": "l1lsm_sWhNu1"
      },
      "execution_count": 231,
      "outputs": []
    },
    {
      "cell_type": "code",
      "source": [
        "# defining variables that will be used for analyzing the data\n",
        "\n",
        "x=tn_train.iloc[:,1:2]\n",
        "y=tn_train.iloc[:,0]"
      ],
      "metadata": {
        "id": "iPtSGreTXVwV"
      },
      "execution_count": 232,
      "outputs": []
    },
    {
      "cell_type": "code",
      "source": [
        "# creating layers for the neural network\n",
        "\n",
        "model = Sequential()\n",
        "model.add(Dense(12, input_shape=(1,), activation='relu'))\n",
        "model.add(Dense(8, activation='relu'))\n",
        "model.add(Dense(1, activation='sigmoid'))"
      ],
      "metadata": {
        "id": "98WDfN7xg6-6"
      },
      "execution_count": 233,
      "outputs": []
    },
    {
      "cell_type": "code",
      "execution_count": 234,
      "metadata": {
        "id": "OBBOu-Yr109M"
      },
      "outputs": [],
      "source": [
        "model.compile(loss='binary_crossentropy', optimizer='adam', metrics=['accuracy'])"
      ]
    },
    {
      "cell_type": "code",
      "source": [
        "model.fit(x, y, epochs=150, batch_size=10)"
      ],
      "metadata": {
        "colab": {
          "base_uri": "https://localhost:8080/"
        },
        "id": "nbvPrceYhfnv",
        "outputId": "bf588829-9799-48f5-e460-fa3620b8ef4b"
      },
      "execution_count": 235,
      "outputs": [
        {
          "output_type": "stream",
          "name": "stdout",
          "text": [
            "Epoch 1/150\n",
            "90/90 [==============================] - 1s 2ms/step - loss: 0.6735 - accuracy: 0.5600\n",
            "Epoch 2/150\n",
            "90/90 [==============================] - 0s 2ms/step - loss: 0.6412 - accuracy: 0.6162\n",
            "Epoch 3/150\n",
            "90/90 [==============================] - 0s 2ms/step - loss: 0.6376 - accuracy: 0.6162\n",
            "Epoch 4/150\n",
            "90/90 [==============================] - 0s 2ms/step - loss: 0.6323 - accuracy: 0.6162\n",
            "Epoch 5/150\n",
            "90/90 [==============================] - 0s 2ms/step - loss: 0.6295 - accuracy: 0.6162\n",
            "Epoch 6/150\n",
            "90/90 [==============================] - 0s 2ms/step - loss: 0.6274 - accuracy: 0.6162\n",
            "Epoch 7/150\n",
            "90/90 [==============================] - 0s 2ms/step - loss: 0.6239 - accuracy: 0.6150\n",
            "Epoch 8/150\n",
            "90/90 [==============================] - 0s 2ms/step - loss: 0.6239 - accuracy: 0.6790\n",
            "Epoch 9/150\n",
            "90/90 [==============================] - 0s 2ms/step - loss: 0.6196 - accuracy: 0.6790\n",
            "Epoch 10/150\n",
            "90/90 [==============================] - 0s 2ms/step - loss: 0.6206 - accuracy: 0.6790\n",
            "Epoch 11/150\n",
            "90/90 [==============================] - 0s 2ms/step - loss: 0.6157 - accuracy: 0.6790\n",
            "Epoch 12/150\n",
            "90/90 [==============================] - 0s 1ms/step - loss: 0.6163 - accuracy: 0.6790\n",
            "Epoch 13/150\n",
            "90/90 [==============================] - 0s 2ms/step - loss: 0.6153 - accuracy: 0.6790\n",
            "Epoch 14/150\n",
            "90/90 [==============================] - 0s 1ms/step - loss: 0.6140 - accuracy: 0.6790\n",
            "Epoch 15/150\n",
            "90/90 [==============================] - 0s 2ms/step - loss: 0.6134 - accuracy: 0.6790\n",
            "Epoch 16/150\n",
            "90/90 [==============================] - 0s 2ms/step - loss: 0.6124 - accuracy: 0.6790\n",
            "Epoch 17/150\n",
            "90/90 [==============================] - 0s 2ms/step - loss: 0.6113 - accuracy: 0.6790\n",
            "Epoch 18/150\n",
            "90/90 [==============================] - 0s 2ms/step - loss: 0.6118 - accuracy: 0.6790\n",
            "Epoch 19/150\n",
            "90/90 [==============================] - 0s 2ms/step - loss: 0.6100 - accuracy: 0.6790\n",
            "Epoch 20/150\n",
            "90/90 [==============================] - 0s 2ms/step - loss: 0.6118 - accuracy: 0.6790\n",
            "Epoch 21/150\n",
            "90/90 [==============================] - 0s 2ms/step - loss: 0.6100 - accuracy: 0.6790\n",
            "Epoch 22/150\n",
            "90/90 [==============================] - 0s 2ms/step - loss: 0.6096 - accuracy: 0.6790\n",
            "Epoch 23/150\n",
            "90/90 [==============================] - 0s 2ms/step - loss: 0.6125 - accuracy: 0.6790\n",
            "Epoch 24/150\n",
            "90/90 [==============================] - 0s 2ms/step - loss: 0.6094 - accuracy: 0.6790\n",
            "Epoch 25/150\n",
            "90/90 [==============================] - 0s 2ms/step - loss: 0.6110 - accuracy: 0.6790\n",
            "Epoch 26/150\n",
            "90/90 [==============================] - 0s 2ms/step - loss: 0.6099 - accuracy: 0.6790\n",
            "Epoch 27/150\n",
            "90/90 [==============================] - 0s 2ms/step - loss: 0.6098 - accuracy: 0.6790\n",
            "Epoch 28/150\n",
            "90/90 [==============================] - 0s 2ms/step - loss: 0.6104 - accuracy: 0.6790\n",
            "Epoch 29/150\n",
            "90/90 [==============================] - 0s 2ms/step - loss: 0.6092 - accuracy: 0.6790\n",
            "Epoch 30/150\n",
            "90/90 [==============================] - 0s 2ms/step - loss: 0.6096 - accuracy: 0.6790\n",
            "Epoch 31/150\n",
            "90/90 [==============================] - 0s 2ms/step - loss: 0.6091 - accuracy: 0.6790\n",
            "Epoch 32/150\n",
            "90/90 [==============================] - 0s 2ms/step - loss: 0.6096 - accuracy: 0.6790\n",
            "Epoch 33/150\n",
            "90/90 [==============================] - 0s 2ms/step - loss: 0.6095 - accuracy: 0.6790\n",
            "Epoch 34/150\n",
            "90/90 [==============================] - 0s 2ms/step - loss: 0.6092 - accuracy: 0.6790\n",
            "Epoch 35/150\n",
            "90/90 [==============================] - 0s 2ms/step - loss: 0.6092 - accuracy: 0.6790\n",
            "Epoch 36/150\n",
            "90/90 [==============================] - 0s 2ms/step - loss: 0.6101 - accuracy: 0.6790\n",
            "Epoch 37/150\n",
            "90/90 [==============================] - 0s 2ms/step - loss: 0.6090 - accuracy: 0.6790\n",
            "Epoch 38/150\n",
            "90/90 [==============================] - 0s 2ms/step - loss: 0.6097 - accuracy: 0.6790\n",
            "Epoch 39/150\n",
            "90/90 [==============================] - 0s 2ms/step - loss: 0.6106 - accuracy: 0.6790\n",
            "Epoch 40/150\n",
            "90/90 [==============================] - 0s 2ms/step - loss: 0.6095 - accuracy: 0.6790\n",
            "Epoch 41/150\n",
            "90/90 [==============================] - 0s 2ms/step - loss: 0.6100 - accuracy: 0.6790\n",
            "Epoch 42/150\n",
            "90/90 [==============================] - 0s 3ms/step - loss: 0.6094 - accuracy: 0.6790\n",
            "Epoch 43/150\n",
            "90/90 [==============================] - 0s 4ms/step - loss: 0.6093 - accuracy: 0.6790\n",
            "Epoch 44/150\n",
            "90/90 [==============================] - 0s 2ms/step - loss: 0.6092 - accuracy: 0.6790\n",
            "Epoch 45/150\n",
            "90/90 [==============================] - 0s 2ms/step - loss: 0.6099 - accuracy: 0.6790\n",
            "Epoch 46/150\n",
            "90/90 [==============================] - 0s 3ms/step - loss: 0.6085 - accuracy: 0.6790\n",
            "Epoch 47/150\n",
            "90/90 [==============================] - 0s 3ms/step - loss: 0.6099 - accuracy: 0.6790\n",
            "Epoch 48/150\n",
            "90/90 [==============================] - 0s 3ms/step - loss: 0.6104 - accuracy: 0.6790\n",
            "Epoch 49/150\n",
            "90/90 [==============================] - 0s 2ms/step - loss: 0.6089 - accuracy: 0.6790\n",
            "Epoch 50/150\n",
            "90/90 [==============================] - 0s 4ms/step - loss: 0.6098 - accuracy: 0.6790\n",
            "Epoch 51/150\n",
            "90/90 [==============================] - 0s 3ms/step - loss: 0.6093 - accuracy: 0.6790\n",
            "Epoch 52/150\n",
            "90/90 [==============================] - 0s 3ms/step - loss: 0.6097 - accuracy: 0.6790\n",
            "Epoch 53/150\n",
            "90/90 [==============================] - 0s 3ms/step - loss: 0.6103 - accuracy: 0.6790\n",
            "Epoch 54/150\n",
            "90/90 [==============================] - 0s 1ms/step - loss: 0.6104 - accuracy: 0.6790\n",
            "Epoch 55/150\n",
            "90/90 [==============================] - 0s 2ms/step - loss: 0.6097 - accuracy: 0.6790\n",
            "Epoch 56/150\n",
            "90/90 [==============================] - 0s 2ms/step - loss: 0.6098 - accuracy: 0.6790\n",
            "Epoch 57/150\n",
            "90/90 [==============================] - 0s 2ms/step - loss: 0.6090 - accuracy: 0.6790\n",
            "Epoch 58/150\n",
            "90/90 [==============================] - 0s 2ms/step - loss: 0.6095 - accuracy: 0.6790\n",
            "Epoch 59/150\n",
            "90/90 [==============================] - 0s 2ms/step - loss: 0.6096 - accuracy: 0.6790\n",
            "Epoch 60/150\n",
            "90/90 [==============================] - 0s 2ms/step - loss: 0.6099 - accuracy: 0.6790\n",
            "Epoch 61/150\n",
            "90/90 [==============================] - 0s 2ms/step - loss: 0.6104 - accuracy: 0.6790\n",
            "Epoch 62/150\n",
            "90/90 [==============================] - 0s 2ms/step - loss: 0.6094 - accuracy: 0.6790\n",
            "Epoch 63/150\n",
            "90/90 [==============================] - 0s 2ms/step - loss: 0.6093 - accuracy: 0.6790\n",
            "Epoch 64/150\n",
            "90/90 [==============================] - 0s 2ms/step - loss: 0.6099 - accuracy: 0.6790\n",
            "Epoch 65/150\n",
            "90/90 [==============================] - 0s 2ms/step - loss: 0.6094 - accuracy: 0.6790\n",
            "Epoch 66/150\n",
            "90/90 [==============================] - 0s 2ms/step - loss: 0.6094 - accuracy: 0.6790\n",
            "Epoch 67/150\n",
            "90/90 [==============================] - 0s 2ms/step - loss: 0.6089 - accuracy: 0.6790\n",
            "Epoch 68/150\n",
            "90/90 [==============================] - 0s 2ms/step - loss: 0.6092 - accuracy: 0.6790\n",
            "Epoch 69/150\n",
            "90/90 [==============================] - 0s 2ms/step - loss: 0.6093 - accuracy: 0.6790\n",
            "Epoch 70/150\n",
            "90/90 [==============================] - 0s 2ms/step - loss: 0.6093 - accuracy: 0.6790\n",
            "Epoch 71/150\n",
            "90/90 [==============================] - 0s 2ms/step - loss: 0.6107 - accuracy: 0.6745\n",
            "Epoch 72/150\n",
            "90/90 [==============================] - 0s 2ms/step - loss: 0.6099 - accuracy: 0.6790\n",
            "Epoch 73/150\n",
            "90/90 [==============================] - 0s 2ms/step - loss: 0.6089 - accuracy: 0.6790\n",
            "Epoch 74/150\n",
            "90/90 [==============================] - 0s 2ms/step - loss: 0.6090 - accuracy: 0.6790\n",
            "Epoch 75/150\n",
            "90/90 [==============================] - 0s 2ms/step - loss: 0.6096 - accuracy: 0.6790\n",
            "Epoch 76/150\n",
            "90/90 [==============================] - 0s 2ms/step - loss: 0.6098 - accuracy: 0.6790\n",
            "Epoch 77/150\n",
            "90/90 [==============================] - 0s 1ms/step - loss: 0.6094 - accuracy: 0.6790\n",
            "Epoch 78/150\n",
            "90/90 [==============================] - 0s 2ms/step - loss: 0.6093 - accuracy: 0.6790\n",
            "Epoch 79/150\n",
            "90/90 [==============================] - 0s 2ms/step - loss: 0.6093 - accuracy: 0.6790\n",
            "Epoch 80/150\n",
            "90/90 [==============================] - 0s 2ms/step - loss: 0.6098 - accuracy: 0.6790\n",
            "Epoch 81/150\n",
            "90/90 [==============================] - 0s 2ms/step - loss: 0.6093 - accuracy: 0.6790\n",
            "Epoch 82/150\n",
            "90/90 [==============================] - 0s 2ms/step - loss: 0.6091 - accuracy: 0.6790\n",
            "Epoch 83/150\n",
            "90/90 [==============================] - 0s 2ms/step - loss: 0.6088 - accuracy: 0.6790\n",
            "Epoch 84/150\n",
            "90/90 [==============================] - 0s 1ms/step - loss: 0.6089 - accuracy: 0.6790\n",
            "Epoch 85/150\n",
            "90/90 [==============================] - 0s 2ms/step - loss: 0.6088 - accuracy: 0.6790\n",
            "Epoch 86/150\n",
            "90/90 [==============================] - 0s 2ms/step - loss: 0.6086 - accuracy: 0.6790\n",
            "Epoch 87/150\n",
            "90/90 [==============================] - 0s 2ms/step - loss: 0.6096 - accuracy: 0.6790\n",
            "Epoch 88/150\n",
            "90/90 [==============================] - 0s 2ms/step - loss: 0.6100 - accuracy: 0.6790\n",
            "Epoch 89/150\n",
            "90/90 [==============================] - 0s 2ms/step - loss: 0.6091 - accuracy: 0.6790\n",
            "Epoch 90/150\n",
            "90/90 [==============================] - 0s 2ms/step - loss: 0.6092 - accuracy: 0.6790\n",
            "Epoch 91/150\n",
            "90/90 [==============================] - 0s 2ms/step - loss: 0.6089 - accuracy: 0.6790\n",
            "Epoch 92/150\n",
            "90/90 [==============================] - 0s 2ms/step - loss: 0.6091 - accuracy: 0.6790\n",
            "Epoch 93/150\n",
            "90/90 [==============================] - 0s 2ms/step - loss: 0.6094 - accuracy: 0.6790\n",
            "Epoch 94/150\n",
            "90/90 [==============================] - 0s 2ms/step - loss: 0.6096 - accuracy: 0.6790\n",
            "Epoch 95/150\n",
            "90/90 [==============================] - 0s 2ms/step - loss: 0.6090 - accuracy: 0.6790\n",
            "Epoch 96/150\n",
            "90/90 [==============================] - 0s 2ms/step - loss: 0.6094 - accuracy: 0.6790\n",
            "Epoch 97/150\n",
            "90/90 [==============================] - 0s 2ms/step - loss: 0.6090 - accuracy: 0.6790\n",
            "Epoch 98/150\n",
            "90/90 [==============================] - 0s 2ms/step - loss: 0.6091 - accuracy: 0.6790\n",
            "Epoch 99/150\n",
            "90/90 [==============================] - 0s 2ms/step - loss: 0.6097 - accuracy: 0.6790\n",
            "Epoch 100/150\n",
            "90/90 [==============================] - 0s 2ms/step - loss: 0.6091 - accuracy: 0.6790\n",
            "Epoch 101/150\n",
            "90/90 [==============================] - 0s 2ms/step - loss: 0.6096 - accuracy: 0.6790\n",
            "Epoch 102/150\n",
            "90/90 [==============================] - 0s 2ms/step - loss: 0.6088 - accuracy: 0.6790\n",
            "Epoch 103/150\n",
            "90/90 [==============================] - 0s 2ms/step - loss: 0.6098 - accuracy: 0.6790\n",
            "Epoch 104/150\n",
            "90/90 [==============================] - 0s 2ms/step - loss: 0.6100 - accuracy: 0.6790\n",
            "Epoch 105/150\n",
            "90/90 [==============================] - 0s 2ms/step - loss: 0.6102 - accuracy: 0.6790\n",
            "Epoch 106/150\n",
            "90/90 [==============================] - 0s 2ms/step - loss: 0.6091 - accuracy: 0.6790\n",
            "Epoch 107/150\n",
            "90/90 [==============================] - 0s 2ms/step - loss: 0.6090 - accuracy: 0.6790\n",
            "Epoch 108/150\n",
            "90/90 [==============================] - 0s 2ms/step - loss: 0.6089 - accuracy: 0.6790\n",
            "Epoch 109/150\n",
            "90/90 [==============================] - 0s 2ms/step - loss: 0.6097 - accuracy: 0.6790\n",
            "Epoch 110/150\n",
            "90/90 [==============================] - 0s 2ms/step - loss: 0.6092 - accuracy: 0.6790\n",
            "Epoch 111/150\n",
            "90/90 [==============================] - 0s 2ms/step - loss: 0.6108 - accuracy: 0.6790\n",
            "Epoch 112/150\n",
            "90/90 [==============================] - 0s 2ms/step - loss: 0.6098 - accuracy: 0.6790\n",
            "Epoch 113/150\n",
            "90/90 [==============================] - 0s 2ms/step - loss: 0.6086 - accuracy: 0.6790\n",
            "Epoch 114/150\n",
            "90/90 [==============================] - 0s 2ms/step - loss: 0.6094 - accuracy: 0.6790\n",
            "Epoch 115/150\n",
            "90/90 [==============================] - 0s 2ms/step - loss: 0.6096 - accuracy: 0.6790\n",
            "Epoch 116/150\n",
            "90/90 [==============================] - 0s 2ms/step - loss: 0.6097 - accuracy: 0.6790\n",
            "Epoch 117/150\n",
            "90/90 [==============================] - 0s 2ms/step - loss: 0.6091 - accuracy: 0.6790\n",
            "Epoch 118/150\n",
            "90/90 [==============================] - 0s 2ms/step - loss: 0.6092 - accuracy: 0.6790\n",
            "Epoch 119/150\n",
            "90/90 [==============================] - 0s 2ms/step - loss: 0.6093 - accuracy: 0.6790\n",
            "Epoch 120/150\n",
            "90/90 [==============================] - 0s 2ms/step - loss: 0.6092 - accuracy: 0.6790\n",
            "Epoch 121/150\n",
            "90/90 [==============================] - 0s 2ms/step - loss: 0.6096 - accuracy: 0.6790\n",
            "Epoch 122/150\n",
            "90/90 [==============================] - 0s 2ms/step - loss: 0.6091 - accuracy: 0.6790\n",
            "Epoch 123/150\n",
            "90/90 [==============================] - 0s 2ms/step - loss: 0.6096 - accuracy: 0.6790\n",
            "Epoch 124/150\n",
            "90/90 [==============================] - 0s 2ms/step - loss: 0.6088 - accuracy: 0.6790\n",
            "Epoch 125/150\n",
            "90/90 [==============================] - 0s 2ms/step - loss: 0.6105 - accuracy: 0.6790\n",
            "Epoch 126/150\n",
            "90/90 [==============================] - 0s 1ms/step - loss: 0.6086 - accuracy: 0.6790\n",
            "Epoch 127/150\n",
            "90/90 [==============================] - 0s 2ms/step - loss: 0.6094 - accuracy: 0.6790\n",
            "Epoch 128/150\n",
            "90/90 [==============================] - 0s 2ms/step - loss: 0.6088 - accuracy: 0.6790\n",
            "Epoch 129/150\n",
            "90/90 [==============================] - 0s 2ms/step - loss: 0.6098 - accuracy: 0.6790\n",
            "Epoch 130/150\n",
            "90/90 [==============================] - 0s 2ms/step - loss: 0.6085 - accuracy: 0.6790\n",
            "Epoch 131/150\n",
            "90/90 [==============================] - 0s 2ms/step - loss: 0.6088 - accuracy: 0.6790\n",
            "Epoch 132/150\n",
            "90/90 [==============================] - 0s 2ms/step - loss: 0.6088 - accuracy: 0.6790\n",
            "Epoch 133/150\n",
            "90/90 [==============================] - 0s 2ms/step - loss: 0.6091 - accuracy: 0.6790\n",
            "Epoch 134/150\n",
            "90/90 [==============================] - 0s 2ms/step - loss: 0.6088 - accuracy: 0.6790\n",
            "Epoch 135/150\n",
            "90/90 [==============================] - 0s 2ms/step - loss: 0.6090 - accuracy: 0.6790\n",
            "Epoch 136/150\n",
            "90/90 [==============================] - 0s 2ms/step - loss: 0.6125 - accuracy: 0.6790\n",
            "Epoch 137/150\n",
            "90/90 [==============================] - 0s 2ms/step - loss: 0.6093 - accuracy: 0.6790\n",
            "Epoch 138/150\n",
            "90/90 [==============================] - 0s 2ms/step - loss: 0.6089 - accuracy: 0.6790\n",
            "Epoch 139/150\n",
            "90/90 [==============================] - 0s 2ms/step - loss: 0.6087 - accuracy: 0.6790\n",
            "Epoch 140/150\n",
            "90/90 [==============================] - 0s 2ms/step - loss: 0.6096 - accuracy: 0.6790\n",
            "Epoch 141/150\n",
            "90/90 [==============================] - 0s 2ms/step - loss: 0.6090 - accuracy: 0.6790\n",
            "Epoch 142/150\n",
            "90/90 [==============================] - 0s 2ms/step - loss: 0.6094 - accuracy: 0.6790\n",
            "Epoch 143/150\n",
            "90/90 [==============================] - 0s 2ms/step - loss: 0.6087 - accuracy: 0.6790\n",
            "Epoch 144/150\n",
            "90/90 [==============================] - 0s 2ms/step - loss: 0.6092 - accuracy: 0.6790\n",
            "Epoch 145/150\n",
            "90/90 [==============================] - 0s 2ms/step - loss: 0.6100 - accuracy: 0.6712\n",
            "Epoch 146/150\n",
            "90/90 [==============================] - 0s 2ms/step - loss: 0.6093 - accuracy: 0.6790\n",
            "Epoch 147/150\n",
            "90/90 [==============================] - 0s 2ms/step - loss: 0.6093 - accuracy: 0.6790\n",
            "Epoch 148/150\n",
            "90/90 [==============================] - 0s 1ms/step - loss: 0.6099 - accuracy: 0.6790\n",
            "Epoch 149/150\n",
            "90/90 [==============================] - 0s 2ms/step - loss: 0.6091 - accuracy: 0.6790\n",
            "Epoch 150/150\n",
            "90/90 [==============================] - 0s 2ms/step - loss: 0.6091 - accuracy: 0.6790\n"
          ]
        },
        {
          "output_type": "execute_result",
          "data": {
            "text/plain": [
              "<keras.callbacks.History at 0x7fee65a99c50>"
            ]
          },
          "metadata": {},
          "execution_count": 235
        }
      ]
    },
    {
      "cell_type": "code",
      "source": [
        "#  shows the accuracy of the neural network model\n",
        "\n",
        "_, accuracy = model.evaluate(x, y)\n",
        "print('Accuracy: %.2f' % (accuracy*100))"
      ],
      "metadata": {
        "colab": {
          "base_uri": "https://localhost:8080/"
        },
        "id": "36zF7cdQjRla",
        "outputId": "c981ddc9-7646-4bee-ec82-06e0944d933e"
      },
      "execution_count": 236,
      "outputs": [
        {
          "output_type": "stream",
          "name": "stdout",
          "text": [
            "28/28 [==============================] - 0s 1ms/step - loss: 0.6081 - accuracy: 0.6790\n",
            "Accuracy: 67.90\n"
          ]
        }
      ]
    },
    {
      "cell_type": "markdown",
      "source": [
        "# Comparison, Analysis, and Conclusion"
      ],
      "metadata": {
        "id": "lHEwVyHs6Twu"
      }
    },
    {
      "cell_type": "markdown",
      "source": [
        "In this project, the machine learning models that I used are Random Forest and Naive Bayes while the other algorithm model is just a simple neural network. When it comes to the comparison between the two machine learning models, their difference is not visible when we are talking about the accuracy paramater. Most of the time, both of them produce the same accuracy. On the other hand, when compared to the neural network, the accuracy produced by the two machine learning models are higher than the neural network. Overall, the accuracy of all the algorithms used is low.\n",
        "\n",
        "The reason behind this is that the input data of the dataset used for data training is quite low. This is a common reason for acquiring a low accuracy when evaluating the trained dataset. Of course, to improve the accuracy, I need to increase the input parameters to achieve a high accuracy. I think that this is also the reason why the two machine learning models always results to the same value of accuracy. Another reason is that I did not go through the hyperparameter tuning. \n",
        "\n",
        "As a conclusion, I was not able to differentiate clearly the two machine learning models because of the less input parameters. With that, I cannot say which of the two models is better when it comes to classifying a dataset. In addition, this can be solved by providing a better input data for the algorithm and applying hyperparameter tuning. \n",
        "\n"
      ],
      "metadata": {
        "id": "TW85clwq6mef"
      }
    }
  ]
}