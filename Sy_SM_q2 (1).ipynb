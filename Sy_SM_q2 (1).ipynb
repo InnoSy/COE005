{
  "cells": [
    {
      "cell_type": "markdown",
      "metadata": {
        "id": "q2agCTcWgOX8"
      },
      "source": [
        "# Data Gathering\n",
        "1. The dataset used for this assessment was obtained from https://ph.investing.com/equities/sm-prime-hldgs-historical-data\n",
        "2. The date in the given dataset ranges from 2020/10/07 to 2022/10/19 (yyyy/mm/dd)\n",
        "3. The dataset is manually edited to add future dates: 2022/10/08 to 2022/10/19"
      ]
    },
    {
      "cell_type": "code",
      "execution_count": 1,
      "metadata": {
        "id": "OFp3tP7jgOYK"
      },
      "outputs": [],
      "source": [
        "import pandas as pd\n",
        "import numpy as np\n",
        "import math\n",
        "import matplotlib.pyplot as plt \n",
        "\n",
        "from sklearn.preprocessing import MinMaxScaler, StandardScaler\n",
        "\n",
        "import warnings\n",
        "warnings.filterwarnings('ignore')\n",
        "\n",
        "from scipy import stats\n",
        "%matplotlib inline\n",
        "\n",
        "import tensorflow as tf\n",
        "from tensorflow import keras\n",
        "from tensorflow.keras import Sequential, layers, callbacks\n",
        "from tensorflow.keras.layers import Dense, LSTM, Dropout, GRU, Bidirectional"
      ]
    },
    {
      "cell_type": "code",
      "execution_count": 2,
      "metadata": {
        "id": "TkHQXlxNgOYN"
      },
      "outputs": [],
      "source": [
        "# Set random seed to get the same result after each time running the code\n",
        "tf.random.set_seed(1234)"
      ]
    },
    {
      "cell_type": "markdown",
      "metadata": {
        "id": "FgN3XJIZgOYY"
      },
      "source": [
        "# Data Preparation\n",
        "1. Inverting the dataset and reshaping it"
      ]
    },
    {
      "cell_type": "code",
      "execution_count": 3,
      "metadata": {
        "colab": {
          "base_uri": "https://localhost:8080/",
          "height": 238
        },
        "id": "gAeRZqETgOYS",
        "outputId": "4d27f7b7-20e6-4785-e904-11fa043ee9c1"
      },
      "outputs": [
        {
          "output_type": "execute_result",
          "data": {
            "text/plain": [
              "            Price   Open   High    Low   Vol. Change %\n",
              "Date                                                  \n",
              "2020-10-07  29.30  29.60  29.60  28.90  7.29M   -1.01%\n",
              "2020-10-08  29.75  29.60  29.80  28.75  3.33M    1.54%\n",
              "2020-10-09  29.10  29.60  29.60  28.80  7.03M   -2.18%\n",
              "2020-10-12  30.00  29.10  30.00  28.95  4.61M    3.09%\n",
              "2020-10-13  29.95  29.95  30.15  29.50  3.52M   -0.17%"
            ],
            "text/html": [
              "\n",
              "  <div id=\"df-c7e3fa41-5b1f-4661-88cc-3cba1b1e3167\">\n",
              "    <div class=\"colab-df-container\">\n",
              "      <div>\n",
              "<style scoped>\n",
              "    .dataframe tbody tr th:only-of-type {\n",
              "        vertical-align: middle;\n",
              "    }\n",
              "\n",
              "    .dataframe tbody tr th {\n",
              "        vertical-align: top;\n",
              "    }\n",
              "\n",
              "    .dataframe thead th {\n",
              "        text-align: right;\n",
              "    }\n",
              "</style>\n",
              "<table border=\"1\" class=\"dataframe\">\n",
              "  <thead>\n",
              "    <tr style=\"text-align: right;\">\n",
              "      <th></th>\n",
              "      <th>Price</th>\n",
              "      <th>Open</th>\n",
              "      <th>High</th>\n",
              "      <th>Low</th>\n",
              "      <th>Vol.</th>\n",
              "      <th>Change %</th>\n",
              "    </tr>\n",
              "    <tr>\n",
              "      <th>Date</th>\n",
              "      <th></th>\n",
              "      <th></th>\n",
              "      <th></th>\n",
              "      <th></th>\n",
              "      <th></th>\n",
              "      <th></th>\n",
              "    </tr>\n",
              "  </thead>\n",
              "  <tbody>\n",
              "    <tr>\n",
              "      <th>2020-10-07</th>\n",
              "      <td>29.30</td>\n",
              "      <td>29.60</td>\n",
              "      <td>29.60</td>\n",
              "      <td>28.90</td>\n",
              "      <td>7.29M</td>\n",
              "      <td>-1.01%</td>\n",
              "    </tr>\n",
              "    <tr>\n",
              "      <th>2020-10-08</th>\n",
              "      <td>29.75</td>\n",
              "      <td>29.60</td>\n",
              "      <td>29.80</td>\n",
              "      <td>28.75</td>\n",
              "      <td>3.33M</td>\n",
              "      <td>1.54%</td>\n",
              "    </tr>\n",
              "    <tr>\n",
              "      <th>2020-10-09</th>\n",
              "      <td>29.10</td>\n",
              "      <td>29.60</td>\n",
              "      <td>29.60</td>\n",
              "      <td>28.80</td>\n",
              "      <td>7.03M</td>\n",
              "      <td>-2.18%</td>\n",
              "    </tr>\n",
              "    <tr>\n",
              "      <th>2020-10-12</th>\n",
              "      <td>30.00</td>\n",
              "      <td>29.10</td>\n",
              "      <td>30.00</td>\n",
              "      <td>28.95</td>\n",
              "      <td>4.61M</td>\n",
              "      <td>3.09%</td>\n",
              "    </tr>\n",
              "    <tr>\n",
              "      <th>2020-10-13</th>\n",
              "      <td>29.95</td>\n",
              "      <td>29.95</td>\n",
              "      <td>30.15</td>\n",
              "      <td>29.50</td>\n",
              "      <td>3.52M</td>\n",
              "      <td>-0.17%</td>\n",
              "    </tr>\n",
              "  </tbody>\n",
              "</table>\n",
              "</div>\n",
              "      <button class=\"colab-df-convert\" onclick=\"convertToInteractive('df-c7e3fa41-5b1f-4661-88cc-3cba1b1e3167')\"\n",
              "              title=\"Convert this dataframe to an interactive table.\"\n",
              "              style=\"display:none;\">\n",
              "        \n",
              "  <svg xmlns=\"http://www.w3.org/2000/svg\" height=\"24px\"viewBox=\"0 0 24 24\"\n",
              "       width=\"24px\">\n",
              "    <path d=\"M0 0h24v24H0V0z\" fill=\"none\"/>\n",
              "    <path d=\"M18.56 5.44l.94 2.06.94-2.06 2.06-.94-2.06-.94-.94-2.06-.94 2.06-2.06.94zm-11 1L8.5 8.5l.94-2.06 2.06-.94-2.06-.94L8.5 2.5l-.94 2.06-2.06.94zm10 10l.94 2.06.94-2.06 2.06-.94-2.06-.94-.94-2.06-.94 2.06-2.06.94z\"/><path d=\"M17.41 7.96l-1.37-1.37c-.4-.4-.92-.59-1.43-.59-.52 0-1.04.2-1.43.59L10.3 9.45l-7.72 7.72c-.78.78-.78 2.05 0 2.83L4 21.41c.39.39.9.59 1.41.59.51 0 1.02-.2 1.41-.59l7.78-7.78 2.81-2.81c.8-.78.8-2.07 0-2.86zM5.41 20L4 18.59l7.72-7.72 1.47 1.35L5.41 20z\"/>\n",
              "  </svg>\n",
              "      </button>\n",
              "      \n",
              "  <style>\n",
              "    .colab-df-container {\n",
              "      display:flex;\n",
              "      flex-wrap:wrap;\n",
              "      gap: 12px;\n",
              "    }\n",
              "\n",
              "    .colab-df-convert {\n",
              "      background-color: #E8F0FE;\n",
              "      border: none;\n",
              "      border-radius: 50%;\n",
              "      cursor: pointer;\n",
              "      display: none;\n",
              "      fill: #1967D2;\n",
              "      height: 32px;\n",
              "      padding: 0 0 0 0;\n",
              "      width: 32px;\n",
              "    }\n",
              "\n",
              "    .colab-df-convert:hover {\n",
              "      background-color: #E2EBFA;\n",
              "      box-shadow: 0px 1px 2px rgba(60, 64, 67, 0.3), 0px 1px 3px 1px rgba(60, 64, 67, 0.15);\n",
              "      fill: #174EA6;\n",
              "    }\n",
              "\n",
              "    [theme=dark] .colab-df-convert {\n",
              "      background-color: #3B4455;\n",
              "      fill: #D2E3FC;\n",
              "    }\n",
              "\n",
              "    [theme=dark] .colab-df-convert:hover {\n",
              "      background-color: #434B5C;\n",
              "      box-shadow: 0px 1px 3px 1px rgba(0, 0, 0, 0.15);\n",
              "      filter: drop-shadow(0px 1px 2px rgba(0, 0, 0, 0.3));\n",
              "      fill: #FFFFFF;\n",
              "    }\n",
              "  </style>\n",
              "\n",
              "      <script>\n",
              "        const buttonEl =\n",
              "          document.querySelector('#df-c7e3fa41-5b1f-4661-88cc-3cba1b1e3167 button.colab-df-convert');\n",
              "        buttonEl.style.display =\n",
              "          google.colab.kernel.accessAllowed ? 'block' : 'none';\n",
              "\n",
              "        async function convertToInteractive(key) {\n",
              "          const element = document.querySelector('#df-c7e3fa41-5b1f-4661-88cc-3cba1b1e3167');\n",
              "          const dataTable =\n",
              "            await google.colab.kernel.invokeFunction('convertToInteractive',\n",
              "                                                     [key], {});\n",
              "          if (!dataTable) return;\n",
              "\n",
              "          const docLinkHtml = 'Like what you see? Visit the ' +\n",
              "            '<a target=\"_blank\" href=https://colab.research.google.com/notebooks/data_table.ipynb>data table notebook</a>'\n",
              "            + ' to learn more about interactive tables.';\n",
              "          element.innerHTML = '';\n",
              "          dataTable['output_type'] = 'display_data';\n",
              "          await google.colab.output.renderOutput(dataTable, element);\n",
              "          const docLink = document.createElement('div');\n",
              "          docLink.innerHTML = docLinkHtml;\n",
              "          element.appendChild(docLink);\n",
              "        }\n",
              "      </script>\n",
              "    </div>\n",
              "  </div>\n",
              "  "
            ]
          },
          "metadata": {},
          "execution_count": 3
        }
      ],
      "source": [
        "file = 'SMPH.csv'\n",
        "sm = pd.read_csv(file, parse_dates = ['Date'], index_col = 'Date')\n",
        "sm=sm.iloc[::-1]\n",
        "sm.head()"
      ]
    },
    {
      "cell_type": "code",
      "execution_count": 4,
      "metadata": {
        "id": "9foJN8gUgOYk"
      },
      "outputs": [],
      "source": [
        "# Split train data and test data\n",
        "\n",
        "train_size = int(len(sm)*0.8)\n",
        "\n",
        "# Do not forget use iloc to select a number of rows\n",
        "training_set = sm.iloc[:train_size, 1:2].values\n",
        "test_set = sm.iloc[train_size:, 1:2].values"
      ]
    },
    {
      "cell_type": "code",
      "execution_count": 5,
      "metadata": {
        "id": "biI1xy8TgOYq"
      },
      "outputs": [],
      "source": [
        "# Scale data\n",
        "# The input to scaler.fit -> array-like, sparse matrix, dataframe of shape (n_samples, n_features)\n",
        "sc = MinMaxScaler(feature_range = (0, 1))\n",
        "scaler = MinMaxScaler().fit(training_set)\n",
        "training_set_scaled = sc.fit_transform(training_set)"
      ]
    },
    {
      "cell_type": "code",
      "source": [
        "train_scaled = scaler.transform(training_set)\n",
        "test_scaled = scaler.transform(test_set)"
      ],
      "metadata": {
        "id": "DbpuTH2OGFHW"
      },
      "execution_count": 6,
      "outputs": []
    },
    {
      "cell_type": "code",
      "execution_count": 7,
      "metadata": {
        "id": "YlW87cMxgOYs"
      },
      "outputs": [],
      "source": [
        "# Create input dataset\n",
        "# Th input shape should be [samples, time steps, features]\n",
        "def create_dataset (X, look_back = 8):\n",
        "    Xs, ys = [], []\n",
        "    \n",
        "    for i in range(len(X)-look_back):\n",
        "        v = X[i:i+look_back]\n",
        "        Xs.append(v)\n",
        "        ys.append(X[i+look_back])\n",
        "        \n",
        "    return np.array(Xs), np.array(ys)"
      ]
    },
    {
      "cell_type": "code",
      "source": [
        "X_train, y_train = create_dataset(train_scaled,30)\n",
        "X_test, y_test = create_dataset(test_scaled,30)"
      ],
      "metadata": {
        "id": "IVtEVMlOF-Bl"
      },
      "execution_count": 8,
      "outputs": []
    },
    {
      "cell_type": "code",
      "source": [
        "print('X_train.shape: ', X_train.shape)\n",
        "print('y_train.shape: ', y_train.shape)\n",
        "print('X_test.shape: ', X_test.shape) \n",
        "print('y_test.shape: ', y_test.shape)"
      ],
      "metadata": {
        "colab": {
          "base_uri": "https://localhost:8080/"
        },
        "id": "HfoC7zWwGCJc",
        "outputId": "7d861312-064f-46c7-b2c5-7a75a699033c"
      },
      "execution_count": 9,
      "outputs": [
        {
          "output_type": "stream",
          "name": "stdout",
          "text": [
            "X_train.shape:  (374, 30, 1)\n",
            "y_train.shape:  (374, 1)\n",
            "X_test.shape:  (71, 30, 1)\n",
            "y_test.shape:  (71, 1)\n"
          ]
        }
      ]
    },
    {
      "cell_type": "code",
      "execution_count": 10,
      "metadata": {
        "colab": {
          "base_uri": "https://localhost:8080/"
        },
        "id": "Hu1Zd49MgOYv",
        "outputId": "6d216ee2-f0a6-4193-8bc0-143154dc8986"
      },
      "outputs": [
        {
          "output_type": "execute_result",
          "data": {
            "text/plain": [
              "(33, 30, 1)"
            ]
          },
          "metadata": {},
          "execution_count": 10
        }
      ],
      "source": [
        "X_test[:33].shape"
      ]
    },
    {
      "cell_type": "markdown",
      "metadata": {
        "id": "Y7uNwpZRgOY1"
      },
      "source": [
        "# Choosing Model\n",
        "1. The chosen model for this assessment is BiLSTM"
      ]
    },
    {
      "cell_type": "code",
      "execution_count": 11,
      "metadata": {
        "id": "3PPCbXBsgOY2"
      },
      "outputs": [],
      "source": [
        "# Create BiLSTM model\n",
        "def create_bilstm(units):\n",
        "    model = Sequential()\n",
        "    # Input layer\n",
        "    model.add(Bidirectional(LSTM(units = units, return_sequences=True), \n",
        "    input_shape=(X_train.shape[1], X_train.shape[2])))\n",
        "    # Hidden layer\n",
        "    model.add(Bidirectional(LSTM(units = units)))\n",
        "    model.add(Dense(1))\n",
        "    #Compile model\n",
        "    model.compile(optimizer='adam',loss='mse')\n",
        "    return model"
      ]
    },
    {
      "cell_type": "code",
      "source": [
        "model_bilstm = create_bilstm(64)"
      ],
      "metadata": {
        "id": "UaHok7ZvGPU0"
      },
      "execution_count": 12,
      "outputs": []
    },
    {
      "cell_type": "markdown",
      "metadata": {
        "id": "n9Q_t4YvgOY3"
      },
      "source": [
        "# Data Training\n",
        "1. The data that will be trained in this section will be used for data evaluation"
      ]
    },
    {
      "cell_type": "code",
      "source": [
        "def fit_model(model):\n",
        "    early_stop = keras.callbacks.EarlyStopping(monitor = 'val_loss',\n",
        "    patience = 10)\n",
        "    history = model.fit(X_train, y_train, epochs = 200, validation_split = 0.2,\n",
        "    batch_size = 16, shuffle = False)\n",
        "    return history"
      ],
      "metadata": {
        "id": "vi2RMt823mfJ"
      },
      "execution_count": 13,
      "outputs": []
    },
    {
      "cell_type": "code",
      "source": [
        "history_bilstm = fit_model(model_bilstm)"
      ],
      "metadata": {
        "colab": {
          "base_uri": "https://localhost:8080/"
        },
        "id": "k9dlr75_GXCe",
        "outputId": "620066bd-cfcd-479c-ea02-a5e015a6b6f6"
      },
      "execution_count": 14,
      "outputs": [
        {
          "output_type": "stream",
          "name": "stdout",
          "text": [
            "Epoch 1/200\n",
            "19/19 [==============================] - 21s 275ms/step - loss: 0.0840 - val_loss: 0.0536\n",
            "Epoch 2/200\n",
            "19/19 [==============================] - 1s 58ms/step - loss: 0.0235 - val_loss: 0.0239\n",
            "Epoch 3/200\n",
            "19/19 [==============================] - 1s 58ms/step - loss: 0.0140 - val_loss: 0.0172\n",
            "Epoch 4/200\n",
            "19/19 [==============================] - 1s 57ms/step - loss: 0.0116 - val_loss: 0.0174\n",
            "Epoch 5/200\n",
            "19/19 [==============================] - 1s 57ms/step - loss: 0.0111 - val_loss: 0.0176\n",
            "Epoch 6/200\n",
            "19/19 [==============================] - 1s 56ms/step - loss: 0.0106 - val_loss: 0.0178\n",
            "Epoch 7/200\n",
            "19/19 [==============================] - 1s 55ms/step - loss: 0.0103 - val_loss: 0.0190\n",
            "Epoch 8/200\n",
            "19/19 [==============================] - 1s 56ms/step - loss: 0.0105 - val_loss: 0.0210\n",
            "Epoch 9/200\n",
            "19/19 [==============================] - 1s 56ms/step - loss: 0.0108 - val_loss: 0.0224\n",
            "Epoch 10/200\n",
            "19/19 [==============================] - 1s 55ms/step - loss: 0.0108 - val_loss: 0.0213\n",
            "Epoch 11/200\n",
            "19/19 [==============================] - 1s 56ms/step - loss: 0.0101 - val_loss: 0.0182\n",
            "Epoch 12/200\n",
            "19/19 [==============================] - 1s 55ms/step - loss: 0.0089 - val_loss: 0.0152\n",
            "Epoch 13/200\n",
            "19/19 [==============================] - 1s 55ms/step - loss: 0.0079 - val_loss: 0.0132\n",
            "Epoch 14/200\n",
            "19/19 [==============================] - 1s 55ms/step - loss: 0.0073 - val_loss: 0.0121\n",
            "Epoch 15/200\n",
            "19/19 [==============================] - 1s 57ms/step - loss: 0.0069 - val_loss: 0.0116\n",
            "Epoch 16/200\n",
            "19/19 [==============================] - 1s 56ms/step - loss: 0.0067 - val_loss: 0.0115\n",
            "Epoch 17/200\n",
            "19/19 [==============================] - 1s 58ms/step - loss: 0.0067 - val_loss: 0.0114\n",
            "Epoch 18/200\n",
            "19/19 [==============================] - 1s 55ms/step - loss: 0.0066 - val_loss: 0.0114\n",
            "Epoch 19/200\n",
            "19/19 [==============================] - 1s 58ms/step - loss: 0.0066 - val_loss: 0.0113\n",
            "Epoch 20/200\n",
            "19/19 [==============================] - 1s 58ms/step - loss: 0.0065 - val_loss: 0.0112\n",
            "Epoch 21/200\n",
            "19/19 [==============================] - 1s 56ms/step - loss: 0.0064 - val_loss: 0.0111\n",
            "Epoch 22/200\n",
            "19/19 [==============================] - 1s 57ms/step - loss: 0.0063 - val_loss: 0.0109\n",
            "Epoch 23/200\n",
            "19/19 [==============================] - 1s 56ms/step - loss: 0.0062 - val_loss: 0.0107\n",
            "Epoch 24/200\n",
            "19/19 [==============================] - 1s 57ms/step - loss: 0.0061 - val_loss: 0.0105\n",
            "Epoch 25/200\n",
            "19/19 [==============================] - 1s 59ms/step - loss: 0.0060 - val_loss: 0.0104\n",
            "Epoch 26/200\n",
            "19/19 [==============================] - 1s 56ms/step - loss: 0.0060 - val_loss: 0.0102\n",
            "Epoch 27/200\n",
            "19/19 [==============================] - 1s 56ms/step - loss: 0.0059 - val_loss: 0.0101\n",
            "Epoch 28/200\n",
            "19/19 [==============================] - 1s 55ms/step - loss: 0.0058 - val_loss: 0.0100\n",
            "Epoch 29/200\n",
            "19/19 [==============================] - 1s 56ms/step - loss: 0.0057 - val_loss: 0.0099\n",
            "Epoch 30/200\n",
            "19/19 [==============================] - 1s 56ms/step - loss: 0.0057 - val_loss: 0.0098\n",
            "Epoch 31/200\n",
            "19/19 [==============================] - 1s 55ms/step - loss: 0.0056 - val_loss: 0.0097\n",
            "Epoch 32/200\n",
            "19/19 [==============================] - 1s 58ms/step - loss: 0.0055 - val_loss: 0.0096\n",
            "Epoch 33/200\n",
            "19/19 [==============================] - 1s 56ms/step - loss: 0.0055 - val_loss: 0.0095\n",
            "Epoch 34/200\n",
            "19/19 [==============================] - 1s 57ms/step - loss: 0.0054 - val_loss: 0.0094\n",
            "Epoch 35/200\n",
            "19/19 [==============================] - 1s 57ms/step - loss: 0.0053 - val_loss: 0.0093\n",
            "Epoch 36/200\n",
            "19/19 [==============================] - 1s 56ms/step - loss: 0.0053 - val_loss: 0.0092\n",
            "Epoch 37/200\n",
            "19/19 [==============================] - 1s 56ms/step - loss: 0.0052 - val_loss: 0.0092\n",
            "Epoch 38/200\n",
            "19/19 [==============================] - 1s 55ms/step - loss: 0.0052 - val_loss: 0.0091\n",
            "Epoch 39/200\n",
            "19/19 [==============================] - 1s 57ms/step - loss: 0.0051 - val_loss: 0.0090\n",
            "Epoch 40/200\n",
            "19/19 [==============================] - 1s 61ms/step - loss: 0.0051 - val_loss: 0.0090\n",
            "Epoch 41/200\n",
            "19/19 [==============================] - 1s 54ms/step - loss: 0.0050 - val_loss: 0.0089\n",
            "Epoch 42/200\n",
            "19/19 [==============================] - 1s 55ms/step - loss: 0.0050 - val_loss: 0.0088\n",
            "Epoch 43/200\n",
            "19/19 [==============================] - 1s 56ms/step - loss: 0.0049 - val_loss: 0.0088\n",
            "Epoch 44/200\n",
            "19/19 [==============================] - 1s 58ms/step - loss: 0.0049 - val_loss: 0.0087\n",
            "Epoch 45/200\n",
            "19/19 [==============================] - 1s 59ms/step - loss: 0.0048 - val_loss: 0.0086\n",
            "Epoch 46/200\n",
            "19/19 [==============================] - 1s 56ms/step - loss: 0.0048 - val_loss: 0.0086\n",
            "Epoch 47/200\n",
            "19/19 [==============================] - 1s 56ms/step - loss: 0.0047 - val_loss: 0.0085\n",
            "Epoch 48/200\n",
            "19/19 [==============================] - 1s 57ms/step - loss: 0.0047 - val_loss: 0.0083\n",
            "Epoch 49/200\n",
            "19/19 [==============================] - 1s 58ms/step - loss: 0.0046 - val_loss: 0.0082\n",
            "Epoch 50/200\n",
            "19/19 [==============================] - 1s 56ms/step - loss: 0.0045 - val_loss: 0.0081\n",
            "Epoch 51/200\n",
            "19/19 [==============================] - 1s 57ms/step - loss: 0.0045 - val_loss: 0.0080\n",
            "Epoch 52/200\n",
            "19/19 [==============================] - 1s 57ms/step - loss: 0.0045 - val_loss: 0.0082\n",
            "Epoch 53/200\n",
            "19/19 [==============================] - 1s 58ms/step - loss: 0.0045 - val_loss: 0.0082\n",
            "Epoch 54/200\n",
            "19/19 [==============================] - 1s 59ms/step - loss: 0.0047 - val_loss: 0.0088\n",
            "Epoch 55/200\n",
            "19/19 [==============================] - 1s 57ms/step - loss: 0.0047 - val_loss: 0.0091\n",
            "Epoch 56/200\n",
            "19/19 [==============================] - 1s 57ms/step - loss: 0.0049 - val_loss: 0.0087\n",
            "Epoch 57/200\n",
            "19/19 [==============================] - 1s 58ms/step - loss: 0.0046 - val_loss: 0.0081\n",
            "Epoch 58/200\n",
            "19/19 [==============================] - 1s 57ms/step - loss: 0.0045 - val_loss: 0.0079\n",
            "Epoch 59/200\n",
            "19/19 [==============================] - 1s 58ms/step - loss: 0.0043 - val_loss: 0.0075\n",
            "Epoch 60/200\n",
            "19/19 [==============================] - 1s 56ms/step - loss: 0.0043 - val_loss: 0.0075\n",
            "Epoch 61/200\n",
            "19/19 [==============================] - 1s 57ms/step - loss: 0.0042 - val_loss: 0.0075\n",
            "Epoch 62/200\n",
            "19/19 [==============================] - 1s 57ms/step - loss: 0.0042 - val_loss: 0.0076\n",
            "Epoch 63/200\n",
            "19/19 [==============================] - 1s 58ms/step - loss: 0.0043 - val_loss: 0.0077\n",
            "Epoch 64/200\n",
            "19/19 [==============================] - 1s 60ms/step - loss: 0.0043 - val_loss: 0.0077\n",
            "Epoch 65/200\n",
            "19/19 [==============================] - 1s 57ms/step - loss: 0.0043 - val_loss: 0.0078\n",
            "Epoch 66/200\n",
            "19/19 [==============================] - 1s 57ms/step - loss: 0.0043 - val_loss: 0.0078\n",
            "Epoch 67/200\n",
            "19/19 [==============================] - 1s 59ms/step - loss: 0.0043 - val_loss: 0.0078\n",
            "Epoch 68/200\n",
            "19/19 [==============================] - 1s 57ms/step - loss: 0.0043 - val_loss: 0.0078\n",
            "Epoch 69/200\n",
            "19/19 [==============================] - 1s 57ms/step - loss: 0.0043 - val_loss: 0.0078\n",
            "Epoch 70/200\n",
            "19/19 [==============================] - 1s 58ms/step - loss: 0.0043 - val_loss: 0.0077\n",
            "Epoch 71/200\n",
            "19/19 [==============================] - 1s 58ms/step - loss: 0.0043 - val_loss: 0.0077\n",
            "Epoch 72/200\n",
            "19/19 [==============================] - 1s 58ms/step - loss: 0.0043 - val_loss: 0.0077\n",
            "Epoch 73/200\n",
            "19/19 [==============================] - 1s 60ms/step - loss: 0.0043 - val_loss: 0.0077\n",
            "Epoch 74/200\n",
            "19/19 [==============================] - 1s 56ms/step - loss: 0.0042 - val_loss: 0.0077\n",
            "Epoch 75/200\n",
            "19/19 [==============================] - 1s 57ms/step - loss: 0.0042 - val_loss: 0.0077\n",
            "Epoch 76/200\n",
            "19/19 [==============================] - 1s 56ms/step - loss: 0.0042 - val_loss: 0.0077\n",
            "Epoch 77/200\n",
            "19/19 [==============================] - 1s 56ms/step - loss: 0.0042 - val_loss: 0.0076\n",
            "Epoch 78/200\n",
            "19/19 [==============================] - 1s 59ms/step - loss: 0.0042 - val_loss: 0.0076\n",
            "Epoch 79/200\n",
            "19/19 [==============================] - 1s 58ms/step - loss: 0.0042 - val_loss: 0.0076\n",
            "Epoch 80/200\n",
            "19/19 [==============================] - 1s 57ms/step - loss: 0.0042 - val_loss: 0.0076\n",
            "Epoch 81/200\n",
            "19/19 [==============================] - 1s 58ms/step - loss: 0.0042 - val_loss: 0.0076\n",
            "Epoch 82/200\n",
            "19/19 [==============================] - 2s 90ms/step - loss: 0.0042 - val_loss: 0.0076\n",
            "Epoch 83/200\n",
            "19/19 [==============================] - 2s 88ms/step - loss: 0.0042 - val_loss: 0.0076\n",
            "Epoch 84/200\n",
            "19/19 [==============================] - 2s 89ms/step - loss: 0.0042 - val_loss: 0.0076\n",
            "Epoch 85/200\n",
            "19/19 [==============================] - 1s 58ms/step - loss: 0.0041 - val_loss: 0.0075\n",
            "Epoch 86/200\n",
            "19/19 [==============================] - 1s 60ms/step - loss: 0.0041 - val_loss: 0.0075\n",
            "Epoch 87/200\n",
            "19/19 [==============================] - 1s 59ms/step - loss: 0.0041 - val_loss: 0.0075\n",
            "Epoch 88/200\n",
            "19/19 [==============================] - 1s 58ms/step - loss: 0.0041 - val_loss: 0.0075\n",
            "Epoch 89/200\n",
            "19/19 [==============================] - 1s 56ms/step - loss: 0.0041 - val_loss: 0.0075\n",
            "Epoch 90/200\n",
            "19/19 [==============================] - 1s 58ms/step - loss: 0.0041 - val_loss: 0.0075\n",
            "Epoch 91/200\n",
            "19/19 [==============================] - 1s 59ms/step - loss: 0.0041 - val_loss: 0.0075\n",
            "Epoch 92/200\n",
            "19/19 [==============================] - 1s 57ms/step - loss: 0.0041 - val_loss: 0.0075\n",
            "Epoch 93/200\n",
            "19/19 [==============================] - 1s 58ms/step - loss: 0.0041 - val_loss: 0.0075\n",
            "Epoch 94/200\n",
            "19/19 [==============================] - 1s 58ms/step - loss: 0.0041 - val_loss: 0.0074\n",
            "Epoch 95/200\n",
            "19/19 [==============================] - 1s 56ms/step - loss: 0.0041 - val_loss: 0.0074\n",
            "Epoch 96/200\n",
            "19/19 [==============================] - 1s 57ms/step - loss: 0.0041 - val_loss: 0.0074\n",
            "Epoch 97/200\n",
            "19/19 [==============================] - 1s 58ms/step - loss: 0.0040 - val_loss: 0.0074\n",
            "Epoch 98/200\n",
            "19/19 [==============================] - 1s 57ms/step - loss: 0.0040 - val_loss: 0.0074\n",
            "Epoch 99/200\n",
            "19/19 [==============================] - 1s 58ms/step - loss: 0.0040 - val_loss: 0.0074\n",
            "Epoch 100/200\n",
            "19/19 [==============================] - 1s 60ms/step - loss: 0.0040 - val_loss: 0.0074\n",
            "Epoch 101/200\n",
            "19/19 [==============================] - 1s 56ms/step - loss: 0.0040 - val_loss: 0.0075\n",
            "Epoch 102/200\n",
            "19/19 [==============================] - 1s 58ms/step - loss: 0.0040 - val_loss: 0.0075\n",
            "Epoch 103/200\n",
            "19/19 [==============================] - 1s 59ms/step - loss: 0.0040 - val_loss: 0.0075\n",
            "Epoch 104/200\n",
            "19/19 [==============================] - 1s 58ms/step - loss: 0.0040 - val_loss: 0.0075\n",
            "Epoch 105/200\n",
            "19/19 [==============================] - 1s 57ms/step - loss: 0.0040 - val_loss: 0.0075\n",
            "Epoch 106/200\n",
            "19/19 [==============================] - 1s 56ms/step - loss: 0.0040 - val_loss: 0.0075\n",
            "Epoch 107/200\n",
            "19/19 [==============================] - 1s 57ms/step - loss: 0.0039 - val_loss: 0.0075\n",
            "Epoch 108/200\n",
            "19/19 [==============================] - 1s 58ms/step - loss: 0.0039 - val_loss: 0.0074\n",
            "Epoch 109/200\n",
            "19/19 [==============================] - 1s 58ms/step - loss: 0.0039 - val_loss: 0.0074\n",
            "Epoch 110/200\n",
            "19/19 [==============================] - 1s 58ms/step - loss: 0.0038 - val_loss: 0.0073\n",
            "Epoch 111/200\n",
            "19/19 [==============================] - 1s 58ms/step - loss: 0.0038 - val_loss: 0.0073\n",
            "Epoch 112/200\n",
            "19/19 [==============================] - 1s 57ms/step - loss: 0.0038 - val_loss: 0.0073\n",
            "Epoch 113/200\n",
            "19/19 [==============================] - 1s 59ms/step - loss: 0.0038 - val_loss: 0.0074\n",
            "Epoch 114/200\n",
            "19/19 [==============================] - 1s 56ms/step - loss: 0.0038 - val_loss: 0.0072\n",
            "Epoch 115/200\n",
            "19/19 [==============================] - 1s 59ms/step - loss: 0.0038 - val_loss: 0.0085\n",
            "Epoch 116/200\n",
            "19/19 [==============================] - 1s 59ms/step - loss: 0.0044 - val_loss: 0.0080\n",
            "Epoch 117/200\n",
            "19/19 [==============================] - 1s 59ms/step - loss: 0.0046 - val_loss: 0.0089\n",
            "Epoch 118/200\n",
            "19/19 [==============================] - 1s 58ms/step - loss: 0.0045 - val_loss: 0.0098\n",
            "Epoch 119/200\n",
            "19/19 [==============================] - 1s 60ms/step - loss: 0.0049 - val_loss: 0.0092\n",
            "Epoch 120/200\n",
            "19/19 [==============================] - 1s 59ms/step - loss: 0.0044 - val_loss: 0.0083\n",
            "Epoch 121/200\n",
            "19/19 [==============================] - 1s 59ms/step - loss: 0.0038 - val_loss: 0.0071\n",
            "Epoch 122/200\n",
            "19/19 [==============================] - 1s 58ms/step - loss: 0.0035 - val_loss: 0.0064\n",
            "Epoch 123/200\n",
            "19/19 [==============================] - 1s 57ms/step - loss: 0.0035 - val_loss: 0.0062\n",
            "Epoch 124/200\n",
            "19/19 [==============================] - 1s 58ms/step - loss: 0.0035 - val_loss: 0.0061\n",
            "Epoch 125/200\n",
            "19/19 [==============================] - 1s 58ms/step - loss: 0.0037 - val_loss: 0.0067\n",
            "Epoch 126/200\n",
            "19/19 [==============================] - 1s 58ms/step - loss: 0.0036 - val_loss: 0.0068\n",
            "Epoch 127/200\n",
            "19/19 [==============================] - 1s 58ms/step - loss: 0.0037 - val_loss: 0.0069\n",
            "Epoch 128/200\n",
            "19/19 [==============================] - 1s 58ms/step - loss: 0.0035 - val_loss: 0.0070\n",
            "Epoch 129/200\n",
            "19/19 [==============================] - 1s 59ms/step - loss: 0.0038 - val_loss: 0.0064\n",
            "Epoch 130/200\n",
            "19/19 [==============================] - 1s 58ms/step - loss: 0.0036 - val_loss: 0.0073\n",
            "Epoch 131/200\n",
            "19/19 [==============================] - 1s 57ms/step - loss: 0.0037 - val_loss: 0.0071\n",
            "Epoch 132/200\n",
            "19/19 [==============================] - 1s 59ms/step - loss: 0.0037 - val_loss: 0.0072\n",
            "Epoch 133/200\n",
            "19/19 [==============================] - 1s 59ms/step - loss: 0.0035 - val_loss: 0.0069\n",
            "Epoch 134/200\n",
            "19/19 [==============================] - 1s 57ms/step - loss: 0.0034 - val_loss: 0.0067\n",
            "Epoch 135/200\n",
            "19/19 [==============================] - 1s 58ms/step - loss: 0.0036 - val_loss: 0.0067\n",
            "Epoch 136/200\n",
            "19/19 [==============================] - 1s 56ms/step - loss: 0.0036 - val_loss: 0.0066\n",
            "Epoch 137/200\n",
            "19/19 [==============================] - 1s 59ms/step - loss: 0.0037 - val_loss: 0.0074\n",
            "Epoch 138/200\n",
            "19/19 [==============================] - 1s 61ms/step - loss: 0.0038 - val_loss: 0.0074\n",
            "Epoch 139/200\n",
            "19/19 [==============================] - 1s 59ms/step - loss: 0.0039 - val_loss: 0.0072\n",
            "Epoch 140/200\n",
            "19/19 [==============================] - 1s 57ms/step - loss: 0.0034 - val_loss: 0.0071\n",
            "Epoch 141/200\n",
            "19/19 [==============================] - 1s 60ms/step - loss: 0.0038 - val_loss: 0.0062\n",
            "Epoch 142/200\n",
            "19/19 [==============================] - 1s 59ms/step - loss: 0.0035 - val_loss: 0.0076\n",
            "Epoch 143/200\n",
            "19/19 [==============================] - 1s 59ms/step - loss: 0.0037 - val_loss: 0.0070\n",
            "Epoch 144/200\n",
            "19/19 [==============================] - 1s 59ms/step - loss: 0.0037 - val_loss: 0.0071\n",
            "Epoch 145/200\n",
            "19/19 [==============================] - 1s 59ms/step - loss: 0.0037 - val_loss: 0.0076\n",
            "Epoch 146/200\n",
            "19/19 [==============================] - 1s 59ms/step - loss: 0.0041 - val_loss: 0.0082\n",
            "Epoch 147/200\n",
            "19/19 [==============================] - 1s 59ms/step - loss: 0.0039 - val_loss: 0.0079\n",
            "Epoch 148/200\n",
            "19/19 [==============================] - 1s 57ms/step - loss: 0.0039 - val_loss: 0.0071\n",
            "Epoch 149/200\n",
            "19/19 [==============================] - 1s 60ms/step - loss: 0.0034 - val_loss: 0.0063\n",
            "Epoch 150/200\n",
            "19/19 [==============================] - 1s 59ms/step - loss: 0.0035 - val_loss: 0.0064\n",
            "Epoch 151/200\n",
            "19/19 [==============================] - 1s 58ms/step - loss: 0.0032 - val_loss: 0.0060\n",
            "Epoch 152/200\n",
            "19/19 [==============================] - 1s 59ms/step - loss: 0.0036 - val_loss: 0.0068\n",
            "Epoch 153/200\n",
            "19/19 [==============================] - 1s 56ms/step - loss: 0.0034 - val_loss: 0.0056\n",
            "Epoch 154/200\n",
            "19/19 [==============================] - 1s 58ms/step - loss: 0.0036 - val_loss: 0.0070\n",
            "Epoch 155/200\n",
            "19/19 [==============================] - 1s 59ms/step - loss: 0.0037 - val_loss: 0.0072\n",
            "Epoch 156/200\n",
            "19/19 [==============================] - 1s 61ms/step - loss: 0.0037 - val_loss: 0.0072\n",
            "Epoch 157/200\n",
            "19/19 [==============================] - 1s 60ms/step - loss: 0.0034 - val_loss: 0.0071\n",
            "Epoch 158/200\n",
            "19/19 [==============================] - 1s 58ms/step - loss: 0.0034 - val_loss: 0.0070\n",
            "Epoch 159/200\n",
            "19/19 [==============================] - 1s 59ms/step - loss: 0.0032 - val_loss: 0.0062\n",
            "Epoch 160/200\n",
            "19/19 [==============================] - 1s 59ms/step - loss: 0.0035 - val_loss: 0.0071\n",
            "Epoch 161/200\n",
            "19/19 [==============================] - 1s 59ms/step - loss: 0.0036 - val_loss: 0.0070\n",
            "Epoch 162/200\n",
            "19/19 [==============================] - 1s 60ms/step - loss: 0.0039 - val_loss: 0.0070\n",
            "Epoch 163/200\n",
            "19/19 [==============================] - 1s 58ms/step - loss: 0.0036 - val_loss: 0.0073\n",
            "Epoch 164/200\n",
            "19/19 [==============================] - 1s 59ms/step - loss: 0.0038 - val_loss: 0.0076\n",
            "Epoch 165/200\n",
            "19/19 [==============================] - 1s 59ms/step - loss: 0.0039 - val_loss: 0.0081\n",
            "Epoch 166/200\n",
            "19/19 [==============================] - 1s 60ms/step - loss: 0.0035 - val_loss: 0.0076\n",
            "Epoch 167/200\n",
            "19/19 [==============================] - 1s 58ms/step - loss: 0.0037 - val_loss: 0.0071\n",
            "Epoch 168/200\n",
            "19/19 [==============================] - 1s 58ms/step - loss: 0.0034 - val_loss: 0.0069\n",
            "Epoch 169/200\n",
            "19/19 [==============================] - 1s 59ms/step - loss: 0.0033 - val_loss: 0.0067\n",
            "Epoch 170/200\n",
            "19/19 [==============================] - 1s 60ms/step - loss: 0.0033 - val_loss: 0.0059\n",
            "Epoch 171/200\n",
            "19/19 [==============================] - 1s 59ms/step - loss: 0.0037 - val_loss: 0.0066\n",
            "Epoch 172/200\n",
            "19/19 [==============================] - 1s 59ms/step - loss: 0.0033 - val_loss: 0.0071\n",
            "Epoch 173/200\n",
            "19/19 [==============================] - 1s 58ms/step - loss: 0.0034 - val_loss: 0.0065\n",
            "Epoch 174/200\n",
            "19/19 [==============================] - 1s 58ms/step - loss: 0.0036 - val_loss: 0.0079\n",
            "Epoch 175/200\n",
            "19/19 [==============================] - 1s 60ms/step - loss: 0.0038 - val_loss: 0.0080\n",
            "Epoch 176/200\n",
            "19/19 [==============================] - 1s 58ms/step - loss: 0.0042 - val_loss: 0.0085\n",
            "Epoch 177/200\n",
            "19/19 [==============================] - 1s 61ms/step - loss: 0.0033 - val_loss: 0.0065\n",
            "Epoch 178/200\n",
            "19/19 [==============================] - 1s 58ms/step - loss: 0.0035 - val_loss: 0.0070\n",
            "Epoch 179/200\n",
            "19/19 [==============================] - 1s 60ms/step - loss: 0.0033 - val_loss: 0.0055\n",
            "Epoch 180/200\n",
            "19/19 [==============================] - 1s 59ms/step - loss: 0.0035 - val_loss: 0.0068\n",
            "Epoch 181/200\n",
            "19/19 [==============================] - 1s 59ms/step - loss: 0.0036 - val_loss: 0.0069\n",
            "Epoch 182/200\n",
            "19/19 [==============================] - 1s 58ms/step - loss: 0.0036 - val_loss: 0.0074\n",
            "Epoch 183/200\n",
            "19/19 [==============================] - 1s 59ms/step - loss: 0.0033 - val_loss: 0.0070\n",
            "Epoch 184/200\n",
            "19/19 [==============================] - 1s 60ms/step - loss: 0.0033 - val_loss: 0.0067\n",
            "Epoch 185/200\n",
            "19/19 [==============================] - 1s 60ms/step - loss: 0.0032 - val_loss: 0.0055\n",
            "Epoch 186/200\n",
            "19/19 [==============================] - 1s 58ms/step - loss: 0.0035 - val_loss: 0.0070\n",
            "Epoch 187/200\n",
            "19/19 [==============================] - 1s 59ms/step - loss: 0.0035 - val_loss: 0.0067\n",
            "Epoch 188/200\n",
            "19/19 [==============================] - 1s 59ms/step - loss: 0.0036 - val_loss: 0.0060\n",
            "Epoch 189/200\n",
            "19/19 [==============================] - 1s 58ms/step - loss: 0.0035 - val_loss: 0.0076\n",
            "Epoch 190/200\n",
            "19/19 [==============================] - 1s 59ms/step - loss: 0.0041 - val_loss: 0.0064\n",
            "Epoch 191/200\n",
            "19/19 [==============================] - 1s 58ms/step - loss: 0.0039 - val_loss: 0.0082\n",
            "Epoch 192/200\n",
            "19/19 [==============================] - 1s 58ms/step - loss: 0.0039 - val_loss: 0.0077\n",
            "Epoch 193/200\n",
            "19/19 [==============================] - 1s 59ms/step - loss: 0.0039 - val_loss: 0.0091\n",
            "Epoch 194/200\n",
            "19/19 [==============================] - 1s 60ms/step - loss: 0.0041 - val_loss: 0.0110\n",
            "Epoch 195/200\n",
            "19/19 [==============================] - 1s 59ms/step - loss: 0.0045 - val_loss: 0.0100\n",
            "Epoch 196/200\n",
            "19/19 [==============================] - 1s 59ms/step - loss: 0.0039 - val_loss: 0.0067\n",
            "Epoch 197/200\n",
            "19/19 [==============================] - 1s 61ms/step - loss: 0.0034 - val_loss: 0.0072\n",
            "Epoch 198/200\n",
            "19/19 [==============================] - 1s 59ms/step - loss: 0.0033 - val_loss: 0.0054\n",
            "Epoch 199/200\n",
            "19/19 [==============================] - 1s 59ms/step - loss: 0.0033 - val_loss: 0.0062\n",
            "Epoch 200/200\n",
            "19/19 [==============================] - 1s 60ms/step - loss: 0.0035 - val_loss: 0.0054\n"
          ]
        }
      ]
    },
    {
      "cell_type": "markdown",
      "source": [
        "# Data Evaluation\n",
        "1. The trained data will be evaluated in this section"
      ],
      "metadata": {
        "id": "v4apgcaW3o_k"
      }
    },
    {
      "cell_type": "code",
      "execution_count": 15,
      "metadata": {
        "id": "iNYmxRH3gOY4"
      },
      "outputs": [],
      "source": [
        "# Plot train loss and validation loss\n",
        "def plot_loss (history, model_name):\n",
        "    plt.figure(figsize = (10, 6))\n",
        "    plt.plot(history.history['loss'])\n",
        "    plt.plot(history.history['val_loss'])\n",
        "    plt.title('Model Train vs Validation Loss for ' + model_name)\n",
        "    plt.ylabel('Loss')\n",
        "    plt.xlabel('epoch')\n",
        "    plt.legend(['Train loss', 'Validation loss'], loc='upper right')"
      ]
    },
    {
      "cell_type": "code",
      "source": [
        "plot_loss (history_bilstm, 'Bidirectional LSTM')"
      ],
      "metadata": {
        "colab": {
          "base_uri": "https://localhost:8080/",
          "height": 404
        },
        "id": "84kKlVV2GezI",
        "outputId": "b0160c19-382c-4de4-f637-92f3d48acf67"
      },
      "execution_count": 16,
      "outputs": [
        {
          "output_type": "display_data",
          "data": {
            "text/plain": [
              "<Figure size 720x432 with 1 Axes>"
            ],
            "image/png": "[encoded data removed]"
          },
          "metadata": {
            "needs_background": "light"
          }
        }
      ]
    },
    {
      "cell_type": "code",
      "source": [
        "# Transform data back to original data space\n",
        "y_test = scaler.inverse_transform(y_test)\n",
        "y_train = scaler.inverse_transform(y_train)"
      ],
      "metadata": {
        "id": "pDzOxud4Gl6x"
      },
      "execution_count": 17,
      "outputs": []
    },
    {
      "cell_type": "code",
      "source": [
        "# Make prediction\n",
        "def prediction(model):\n",
        "    prediction = model.predict(X_test)\n",
        "    prediction = scaler.inverse_transform(prediction)\n",
        "    return prediction"
      ],
      "metadata": {
        "id": "ldDJe0bsG1B9"
      },
      "execution_count": 18,
      "outputs": []
    },
    {
      "cell_type": "code",
      "source": [
        "prediction_bilstm = prediction(model_bilstm)"
      ],
      "metadata": {
        "id": "konJKn5UG3gt"
      },
      "execution_count": 19,
      "outputs": []
    },
    {
      "cell_type": "code",
      "source": [
        "# Plot test data vs prediction\n",
        "def plot_future(prediction, model_name, y_test):\n",
        "    plt.figure(figsize=(10, 6))\n",
        "    range_future = len(prediction)\n",
        "    plt.plot(np.arange(range_future), np.array(y_test), label='Test data')\n",
        "    plt.plot(np.arange(range_future), np.array(prediction),label='Prediction')\n",
        "    plt.title('Test data vs prediction for ' + model_name)\n",
        "    plt.legend(loc='upper left')\n",
        "    plt.xlabel('Time (day)')\n",
        "    plt.ylabel('Price')"
      ],
      "metadata": {
        "id": "WWlo7CmPG6-5"
      },
      "execution_count": 20,
      "outputs": []
    },
    {
      "cell_type": "code",
      "source": [
        "plot_future(prediction_bilstm, 'Bidirectional LSTM', y_test)"
      ],
      "metadata": {
        "colab": {
          "base_uri": "https://localhost:8080/",
          "height": 404
        },
        "id": "lwYACEkmHB1U",
        "outputId": "cf5d759f-13a3-42ad-9060-a62c5be80b6a"
      },
      "execution_count": 21,
      "outputs": [
        {
          "output_type": "display_data",
          "data": {
            "text/plain": [
              "<Figure size 720x432 with 1 Axes>"
            ],
            "image/png": "[encoded data removed]"
          },
          "metadata": {
            "needs_background": "light"
          }
        }
      ]
    },
    {
      "cell_type": "code",
      "source": [
        "# Calculate MAE and RMSE\n",
        "def evaluate_prediction(predictions, actual, model_name):\n",
        "    errors = predictions - actual\n",
        "    mse = np.square(errors).mean()\n",
        "    rmse = np.sqrt(mse)\n",
        "    mae = np.abs(errors).mean()\n",
        "    print(model_name + ':')\n",
        "    print('Mean Absolute Error: {:.4f}'.format(mae))\n",
        "    print('Root Mean Square Error: {:.4f}'.format(rmse))\n",
        "    print('')"
      ],
      "metadata": {
        "id": "5M-xgOwGHFkT"
      },
      "execution_count": 22,
      "outputs": []
    },
    {
      "cell_type": "code",
      "source": [
        "evaluate_prediction(prediction_bilstm, y_test, 'Bidirectiona LSTM')"
      ],
      "metadata": {
        "colab": {
          "base_uri": "https://localhost:8080/"
        },
        "id": "_mGBgUmHHGRq",
        "outputId": "e80937f9-55b5-4751-a39e-7b71bc1306cc"
      },
      "execution_count": 23,
      "outputs": [
        {
          "output_type": "stream",
          "name": "stdout",
          "text": [
            "Bidirectiona LSTM:\n",
            "Mean Absolute Error: 2.4928\n",
            "Root Mean Square Error: 5.9939\n",
            "\n"
          ]
        }
      ]
    },
    {
      "cell_type": "markdown",
      "metadata": {
        "id": "TDi36rWigOY6"
      },
      "source": [
        "# Data Prediction\n",
        "1. This section will present the forecasted price for the stock market of SMPH"
      ]
    },
    {
      "cell_type": "code",
      "execution_count": 24,
      "metadata": {
        "id": "6Zm_CKJdgOY7"
      },
      "outputs": [],
      "source": [
        "# Select 60 days of data from test data\n",
        "new_data = test_set[0:42]\n",
        "# Scale the input\n",
        "scaled_data = scaler.transform(new_data)"
      ]
    },
    {
      "cell_type": "code",
      "source": [
        "# Reshape the input \n",
        "def create_dataset (X, look_back = 1):\n",
        "    Xs = []\n",
        "    for i in range(len(X)-look_back):\n",
        "        v = X[i:i+look_back]\n",
        "        Xs.append(v)\n",
        "    return np.array(Xs)"
      ],
      "metadata": {
        "id": "p1rmlJbFHPpc"
      },
      "execution_count": 25,
      "outputs": []
    },
    {
      "cell_type": "code",
      "source": [
        "X_30= create_dataset(scaled_data,30)\n",
        "print('X_30.shape: ', X_30.shape) "
      ],
      "metadata": {
        "colab": {
          "base_uri": "https://localhost:8080/"
        },
        "id": "jpkJ71HOHRhZ",
        "outputId": "8a48b475-8425-4396-8fba-d6fa2b7d07a7"
      },
      "execution_count": 26,
      "outputs": [
        {
          "output_type": "stream",
          "name": "stdout",
          "text": [
            "X_30.shape:  (12, 30, 1)\n"
          ]
        }
      ]
    },
    {
      "cell_type": "code",
      "execution_count": 27,
      "metadata": {
        "id": "SixxFyUWgOY8"
      },
      "outputs": [],
      "source": [
        "# Make prediction for new data\n",
        "def prediction(model):\n",
        "    prediction = model.predict(X_30)\n",
        "    prediction = scaler.inverse_transform(prediction)\n",
        "    return prediction"
      ]
    },
    {
      "cell_type": "code",
      "source": [
        "prediction_bilstm = prediction(model_bilstm)"
      ],
      "metadata": {
        "id": "yZI5Guz1HXia"
      },
      "execution_count": 28,
      "outputs": []
    },
    {
      "cell_type": "code",
      "source": [
        "# Plot history and future\n",
        "def plot_multi_step(history, prediction1):\n",
        "    plt.figure(figsize=(15, 6))\n",
        "    global range_history, range_future\n",
        "    range_history = len(history)\n",
        "    range_future = list(range(range_history, range_history + len(prediction1)))\n",
        "    global data , a , b\n",
        "    data=sm.filter(['Price'])\n",
        "    a=plt.plot(np.arange(range_history), np.array(history), color = 'green', label='History')\n",
        "    b=plt.plot(range_future, np.array(prediction1), color = 'red', label='Forecasted Price')\n",
        "    plt.legend(loc='upper right')\n",
        "    plt.xlabel('Day')\n",
        "    plt.ylabel('Price Forecast')"
      ],
      "metadata": {
        "id": "RiEE1AdTHdNq"
      },
      "execution_count": 29,
      "outputs": []
    },
    {
      "cell_type": "code",
      "source": [
        "plot_multi_step(new_data, prediction_bilstm)"
      ],
      "metadata": {
        "colab": {
          "base_uri": "https://localhost:8080/",
          "height": 388
        },
        "id": "QeoNFM2GHfBW",
        "outputId": "a02eaf4f-616e-4d49-cac6-a6abd813ebb2"
      },
      "execution_count": 30,
      "outputs": [
        {
          "output_type": "display_data",
          "data": {
            "text/plain": [
              "<Figure size 1080x432 with 1 Axes>"
            ],
            "image/png": "[encoded data removed]"
          },
          "metadata": {
            "needs_background": "light"
          }
        }
      ]
    },
    {
      "cell_type": "code",
      "source": [
        "prediction_bilstm"
      ],
      "metadata": {
        "colab": {
          "base_uri": "https://localhost:8080/"
        },
        "id": "pWfFGLmytYOE",
        "outputId": "1f5839f1-37dc-44d6-aa0a-06a16e67c14b"
      },
      "execution_count": 31,
      "outputs": [
        {
          "output_type": "execute_result",
          "data": {
            "text/plain": [
              "array([[36.907627],\n",
              "       [37.09437 ],\n",
              "       [37.101383],\n",
              "       [37.083202],\n",
              "       [37.645725],\n",
              "       [37.053043],\n",
              "       [36.555798],\n",
              "       [36.258102],\n",
              "       [36.464653],\n",
              "       [36.48738 ],\n",
              "       [36.781353],\n",
              "       [36.4499  ]], dtype=float32)"
            ]
          },
          "metadata": {},
          "execution_count": 31
        }
      ]
    }
  ],
  "metadata": {
    "kernelspec": {
      "display_name": "Python 3",
      "language": "python",
      "name": "python3"
    },
    "language_info": {
      "codemirror_mode": {
        "name": "ipython",
        "version": 3
      },
      "file_extension": ".py",
      "mimetype": "text/x-python",
      "name": "python",
      "nbconvert_exporter": "python",
      "pygments_lexer": "ipython3",
      "version": "3.7.4"
    },
    "toc": {
      "base_numbering": 1,
      "nav_menu": {
        "height": "498px",
        "width": "418px"
      },
      "number_sections": true,
      "sideBar": true,
      "skip_h1_title": false,
      "title_cell": "Table of Contents",
      "title_sidebar": "Contents",
      "toc_cell": false,
      "toc_position": {},
      "toc_section_display": true,
      "toc_window_display": false
    },
    "colab": {
      "provenance": [],
      "collapsed_sections": [],
      "toc_visible": true
    }
  },
  "nbformat": 4,
  "nbformat_minor": 0
}